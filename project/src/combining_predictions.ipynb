{
  "cells": [
    {
      "cell_type": "markdown",
      "metadata": {
        "id": "view-in-github",
        "colab_type": "text"
      },
      "source": [
        "<a href=\"https://colab.research.google.com/github/JasonD28/CS-175/blob/master/scripts/combining_predictions.ipynb\" target=\"_parent\"><img src=\"https://colab.research.google.com/assets/colab-badge.svg\" alt=\"Open In Colab\"/></a>"
      ]
    },
    {
      "cell_type": "code",
      "metadata": {
        "id": "lYa4GTHXo_mr",
        "colab_type": "code",
        "colab": {
          "base_uri": "https://localhost:8080/",
          "height": 123
        },
        "outputId": "118502ba-1d51-4777-8e41-25b5acfbecfd"
      },
      "source": [
        "import os\n",
        "from google.colab import drive\n",
        "drive.mount('/content/drive')"
      ],
      "execution_count": 1,
      "outputs": [
        {
          "output_type": "stream",
          "text": [
            "Go to this URL in a browser: https://accounts.google.com/o/oauth2/auth?client_id=947318989803-6bn6qk8qdgf4n4g3pfee6491hc0brc4i.apps.googleusercontent.com&redirect_uri=urn%3aietf%3awg%3aoauth%3a2.0%3aoob&response_type=code&scope=email%20https%3a%2f%2fwww.googleapis.com%2fauth%2fdocs.test%20https%3a%2f%2fwww.googleapis.com%2fauth%2fdrive%20https%3a%2f%2fwww.googleapis.com%2fauth%2fdrive.photos.readonly%20https%3a%2f%2fwww.googleapis.com%2fauth%2fpeopleapi.readonly\n",
            "\n",
            "Enter your authorization code:\n",
            "··········\n",
            "Mounted at /content/drive\n"
          ],
          "name": "stdout"
        }
      ]
    },
    {
      "cell_type": "code",
      "metadata": {
        "id": "CsKZ6PAvpHQl",
        "colab_type": "code",
        "colab": {}
      },
      "source": [
        "import pandas as pd\n",
        "import math\n",
        "import numpy as np\n",
        "root = \"drive/My Drive/cs-175-project/predictions\"\n",
        "faster_preds = pd.read_csv(root+'/faster_prediction.csv')\n",
        "classifier_preds = pd.read_csv(root+'/classifier_prediction.csv')"
      ],
      "execution_count": 0,
      "outputs": []
    },
    {
      "cell_type": "code",
      "metadata": {
        "id": "GNsi-AVzrTfj",
        "colab_type": "code",
        "colab": {
          "base_uri": "https://localhost:8080/",
          "height": 417
        },
        "outputId": "40ab866a-bcc0-46e0-811b-7ffcfbd8cc83"
      },
      "source": [
        "faster_preds"
      ],
      "execution_count": 30,
      "outputs": [
        {
          "output_type": "execute_result",
          "data": {
            "text/html": [
              "<div>\n",
              "<style scoped>\n",
              "    .dataframe tbody tr th:only-of-type {\n",
              "        vertical-align: middle;\n",
              "    }\n",
              "\n",
              "    .dataframe tbody tr th {\n",
              "        vertical-align: top;\n",
              "    }\n",
              "\n",
              "    .dataframe thead th {\n",
              "        text-align: right;\n",
              "    }\n",
              "</style>\n",
              "<table border=\"1\" class=\"dataframe\">\n",
              "  <thead>\n",
              "    <tr style=\"text-align: right;\">\n",
              "      <th></th>\n",
              "      <th>patientId</th>\n",
              "      <th>PredictionString</th>\n",
              "    </tr>\n",
              "  </thead>\n",
              "  <tbody>\n",
              "    <tr>\n",
              "      <th>0</th>\n",
              "      <td>0000a175-0e68-4ca4-b1af-167204a7e0bc</td>\n",
              "      <td>NaN</td>\n",
              "    </tr>\n",
              "    <tr>\n",
              "      <th>1</th>\n",
              "      <td>0005d3cc-3c3f-40b9-93c3-46231c3eb813</td>\n",
              "      <td>NaN</td>\n",
              "    </tr>\n",
              "    <tr>\n",
              "      <th>2</th>\n",
              "      <td>000686d7-f4fc-448d-97a0-44fa9c5d3aa6</td>\n",
              "      <td>NaN</td>\n",
              "    </tr>\n",
              "    <tr>\n",
              "      <th>3</th>\n",
              "      <td>000e3a7d-c0ca-4349-bb26-5af2d8993c3d</td>\n",
              "      <td>NaN</td>\n",
              "    </tr>\n",
              "    <tr>\n",
              "      <th>4</th>\n",
              "      <td>00100a24-854d-423d-a092-edcf6179e061</td>\n",
              "      <td>0.5938289165496826 529.087158203125 362.260467...</td>\n",
              "    </tr>\n",
              "    <tr>\n",
              "      <th>...</th>\n",
              "      <td>...</td>\n",
              "      <td>...</td>\n",
              "    </tr>\n",
              "    <tr>\n",
              "      <th>2995</th>\n",
              "      <td>c1e88810-9e4e-4f39-9306-8d314bfc1ff1</td>\n",
              "      <td>NaN</td>\n",
              "    </tr>\n",
              "    <tr>\n",
              "      <th>2996</th>\n",
              "      <td>c1ec035b-377b-416c-a281-f868b7c9b6c3</td>\n",
              "      <td>NaN</td>\n",
              "    </tr>\n",
              "    <tr>\n",
              "      <th>2997</th>\n",
              "      <td>c1ef5b66-0fd7-49d1-ae6b-5af84929414b</td>\n",
              "      <td>NaN</td>\n",
              "    </tr>\n",
              "    <tr>\n",
              "      <th>2998</th>\n",
              "      <td>c1ef6724-f95f-40f1-b25b-de806d9bc39d</td>\n",
              "      <td>NaN</td>\n",
              "    </tr>\n",
              "    <tr>\n",
              "      <th>2999</th>\n",
              "      <td>c1f55e7e-4065-4dc0-993e-a7c1704c6036</td>\n",
              "      <td>NaN</td>\n",
              "    </tr>\n",
              "  </tbody>\n",
              "</table>\n",
              "<p>3000 rows × 2 columns</p>\n",
              "</div>"
            ],
            "text/plain": [
              "                                 patientId                                   PredictionString\n",
              "0     0000a175-0e68-4ca4-b1af-167204a7e0bc                                                NaN\n",
              "1     0005d3cc-3c3f-40b9-93c3-46231c3eb813                                                NaN\n",
              "2     000686d7-f4fc-448d-97a0-44fa9c5d3aa6                                                NaN\n",
              "3     000e3a7d-c0ca-4349-bb26-5af2d8993c3d                                                NaN\n",
              "4     00100a24-854d-423d-a092-edcf6179e061  0.5938289165496826 529.087158203125 362.260467...\n",
              "...                                    ...                                                ...\n",
              "2995  c1e88810-9e4e-4f39-9306-8d314bfc1ff1                                                NaN\n",
              "2996  c1ec035b-377b-416c-a281-f868b7c9b6c3                                                NaN\n",
              "2997  c1ef5b66-0fd7-49d1-ae6b-5af84929414b                                                NaN\n",
              "2998  c1ef6724-f95f-40f1-b25b-de806d9bc39d                                                NaN\n",
              "2999  c1f55e7e-4065-4dc0-993e-a7c1704c6036                                                NaN\n",
              "\n",
              "[3000 rows x 2 columns]"
            ]
          },
          "metadata": {
            "tags": []
          },
          "execution_count": 30
        }
      ]
    },
    {
      "cell_type": "code",
      "metadata": {
        "id": "WMp0SBzyrV0b",
        "colab_type": "code",
        "colab": {
          "base_uri": "https://localhost:8080/",
          "height": 417
        },
        "outputId": "30d3f900-54fa-4cc2-ebae-53a87b16b9e9"
      },
      "source": [
        "result = pd.merge(faster_preds, classifier_preds, on='patientId')\n",
        "result"
      ],
      "execution_count": 31,
      "outputs": [
        {
          "output_type": "execute_result",
          "data": {
            "text/html": [
              "<div>\n",
              "<style scoped>\n",
              "    .dataframe tbody tr th:only-of-type {\n",
              "        vertical-align: middle;\n",
              "    }\n",
              "\n",
              "    .dataframe tbody tr th {\n",
              "        vertical-align: top;\n",
              "    }\n",
              "\n",
              "    .dataframe thead th {\n",
              "        text-align: right;\n",
              "    }\n",
              "</style>\n",
              "<table border=\"1\" class=\"dataframe\">\n",
              "  <thead>\n",
              "    <tr style=\"text-align: right;\">\n",
              "      <th></th>\n",
              "      <th>patientId</th>\n",
              "      <th>PredictionString</th>\n",
              "      <th>pred</th>\n",
              "    </tr>\n",
              "  </thead>\n",
              "  <tbody>\n",
              "    <tr>\n",
              "      <th>0</th>\n",
              "      <td>0000a175-0e68-4ca4-b1af-167204a7e0bc</td>\n",
              "      <td>NaN</td>\n",
              "      <td>0</td>\n",
              "    </tr>\n",
              "    <tr>\n",
              "      <th>1</th>\n",
              "      <td>0005d3cc-3c3f-40b9-93c3-46231c3eb813</td>\n",
              "      <td>NaN</td>\n",
              "      <td>0</td>\n",
              "    </tr>\n",
              "    <tr>\n",
              "      <th>2</th>\n",
              "      <td>000686d7-f4fc-448d-97a0-44fa9c5d3aa6</td>\n",
              "      <td>NaN</td>\n",
              "      <td>0</td>\n",
              "    </tr>\n",
              "    <tr>\n",
              "      <th>3</th>\n",
              "      <td>000e3a7d-c0ca-4349-bb26-5af2d8993c3d</td>\n",
              "      <td>NaN</td>\n",
              "      <td>0</td>\n",
              "    </tr>\n",
              "    <tr>\n",
              "      <th>4</th>\n",
              "      <td>00100a24-854d-423d-a092-edcf6179e061</td>\n",
              "      <td>0.5938289165496826 529.087158203125 362.260467...</td>\n",
              "      <td>0</td>\n",
              "    </tr>\n",
              "    <tr>\n",
              "      <th>...</th>\n",
              "      <td>...</td>\n",
              "      <td>...</td>\n",
              "      <td>...</td>\n",
              "    </tr>\n",
              "    <tr>\n",
              "      <th>2995</th>\n",
              "      <td>c1e88810-9e4e-4f39-9306-8d314bfc1ff1</td>\n",
              "      <td>NaN</td>\n",
              "      <td>1</td>\n",
              "    </tr>\n",
              "    <tr>\n",
              "      <th>2996</th>\n",
              "      <td>c1ec035b-377b-416c-a281-f868b7c9b6c3</td>\n",
              "      <td>NaN</td>\n",
              "      <td>0</td>\n",
              "    </tr>\n",
              "    <tr>\n",
              "      <th>2997</th>\n",
              "      <td>c1ef5b66-0fd7-49d1-ae6b-5af84929414b</td>\n",
              "      <td>NaN</td>\n",
              "      <td>0</td>\n",
              "    </tr>\n",
              "    <tr>\n",
              "      <th>2998</th>\n",
              "      <td>c1ef6724-f95f-40f1-b25b-de806d9bc39d</td>\n",
              "      <td>NaN</td>\n",
              "      <td>0</td>\n",
              "    </tr>\n",
              "    <tr>\n",
              "      <th>2999</th>\n",
              "      <td>c1f55e7e-4065-4dc0-993e-a7c1704c6036</td>\n",
              "      <td>NaN</td>\n",
              "      <td>0</td>\n",
              "    </tr>\n",
              "  </tbody>\n",
              "</table>\n",
              "<p>3000 rows × 3 columns</p>\n",
              "</div>"
            ],
            "text/plain": [
              "                                 patientId  ... pred\n",
              "0     0000a175-0e68-4ca4-b1af-167204a7e0bc  ...    0\n",
              "1     0005d3cc-3c3f-40b9-93c3-46231c3eb813  ...    0\n",
              "2     000686d7-f4fc-448d-97a0-44fa9c5d3aa6  ...    0\n",
              "3     000e3a7d-c0ca-4349-bb26-5af2d8993c3d  ...    0\n",
              "4     00100a24-854d-423d-a092-edcf6179e061  ...    0\n",
              "...                                    ...  ...  ...\n",
              "2995  c1e88810-9e4e-4f39-9306-8d314bfc1ff1  ...    1\n",
              "2996  c1ec035b-377b-416c-a281-f868b7c9b6c3  ...    0\n",
              "2997  c1ef5b66-0fd7-49d1-ae6b-5af84929414b  ...    0\n",
              "2998  c1ef6724-f95f-40f1-b25b-de806d9bc39d  ...    0\n",
              "2999  c1f55e7e-4065-4dc0-993e-a7c1704c6036  ...    0\n",
              "\n",
              "[3000 rows x 3 columns]"
            ]
          },
          "metadata": {
            "tags": []
          },
          "execution_count": 31
        }
      ]
    },
    {
      "cell_type": "code",
      "metadata": {
        "id": "mwGwTaPcsYRe",
        "colab_type": "code",
        "colab": {}
      },
      "source": [
        "result.loc[result.pred == 0, 'PredictionString'] = np.NaN"
      ],
      "execution_count": 0,
      "outputs": []
    },
    {
      "cell_type": "code",
      "metadata": {
        "id": "E8nT5_ibvD84",
        "colab_type": "code",
        "colab": {
          "base_uri": "https://localhost:8080/",
          "height": 417
        },
        "outputId": "4b7d6f28-a8bd-40a1-dfdc-a726eddee59a"
      },
      "source": [
        "result"
      ],
      "execution_count": 25,
      "outputs": [
        {
          "output_type": "execute_result",
          "data": {
            "text/html": [
              "<div>\n",
              "<style scoped>\n",
              "    .dataframe tbody tr th:only-of-type {\n",
              "        vertical-align: middle;\n",
              "    }\n",
              "\n",
              "    .dataframe tbody tr th {\n",
              "        vertical-align: top;\n",
              "    }\n",
              "\n",
              "    .dataframe thead th {\n",
              "        text-align: right;\n",
              "    }\n",
              "</style>\n",
              "<table border=\"1\" class=\"dataframe\">\n",
              "  <thead>\n",
              "    <tr style=\"text-align: right;\">\n",
              "      <th></th>\n",
              "      <th>patientId</th>\n",
              "      <th>PredictionString</th>\n",
              "      <th>pred</th>\n",
              "    </tr>\n",
              "  </thead>\n",
              "  <tbody>\n",
              "    <tr>\n",
              "      <th>0</th>\n",
              "      <td>0000a175-0e68-4ca4-b1af-167204a7e0bc</td>\n",
              "      <td>NaN</td>\n",
              "      <td>0</td>\n",
              "    </tr>\n",
              "    <tr>\n",
              "      <th>1</th>\n",
              "      <td>0005d3cc-3c3f-40b9-93c3-46231c3eb813</td>\n",
              "      <td>NaN</td>\n",
              "      <td>0</td>\n",
              "    </tr>\n",
              "    <tr>\n",
              "      <th>2</th>\n",
              "      <td>000686d7-f4fc-448d-97a0-44fa9c5d3aa6</td>\n",
              "      <td>NaN</td>\n",
              "      <td>0</td>\n",
              "    </tr>\n",
              "    <tr>\n",
              "      <th>3</th>\n",
              "      <td>000e3a7d-c0ca-4349-bb26-5af2d8993c3d</td>\n",
              "      <td>NaN</td>\n",
              "      <td>0</td>\n",
              "    </tr>\n",
              "    <tr>\n",
              "      <th>4</th>\n",
              "      <td>00100a24-854d-423d-a092-edcf6179e061</td>\n",
              "      <td>NaN</td>\n",
              "      <td>0</td>\n",
              "    </tr>\n",
              "    <tr>\n",
              "      <th>...</th>\n",
              "      <td>...</td>\n",
              "      <td>...</td>\n",
              "      <td>...</td>\n",
              "    </tr>\n",
              "    <tr>\n",
              "      <th>2995</th>\n",
              "      <td>c1e88810-9e4e-4f39-9306-8d314bfc1ff1</td>\n",
              "      <td>NaN</td>\n",
              "      <td>1</td>\n",
              "    </tr>\n",
              "    <tr>\n",
              "      <th>2996</th>\n",
              "      <td>c1ec035b-377b-416c-a281-f868b7c9b6c3</td>\n",
              "      <td>NaN</td>\n",
              "      <td>0</td>\n",
              "    </tr>\n",
              "    <tr>\n",
              "      <th>2997</th>\n",
              "      <td>c1ef5b66-0fd7-49d1-ae6b-5af84929414b</td>\n",
              "      <td>NaN</td>\n",
              "      <td>0</td>\n",
              "    </tr>\n",
              "    <tr>\n",
              "      <th>2998</th>\n",
              "      <td>c1ef6724-f95f-40f1-b25b-de806d9bc39d</td>\n",
              "      <td>NaN</td>\n",
              "      <td>0</td>\n",
              "    </tr>\n",
              "    <tr>\n",
              "      <th>2999</th>\n",
              "      <td>c1f55e7e-4065-4dc0-993e-a7c1704c6036</td>\n",
              "      <td>NaN</td>\n",
              "      <td>0</td>\n",
              "    </tr>\n",
              "  </tbody>\n",
              "</table>\n",
              "<p>3000 rows × 3 columns</p>\n",
              "</div>"
            ],
            "text/plain": [
              "                                 patientId PredictionString  pred\n",
              "0     0000a175-0e68-4ca4-b1af-167204a7e0bc              NaN     0\n",
              "1     0005d3cc-3c3f-40b9-93c3-46231c3eb813              NaN     0\n",
              "2     000686d7-f4fc-448d-97a0-44fa9c5d3aa6              NaN     0\n",
              "3     000e3a7d-c0ca-4349-bb26-5af2d8993c3d              NaN     0\n",
              "4     00100a24-854d-423d-a092-edcf6179e061              NaN     0\n",
              "...                                    ...              ...   ...\n",
              "2995  c1e88810-9e4e-4f39-9306-8d314bfc1ff1              NaN     1\n",
              "2996  c1ec035b-377b-416c-a281-f868b7c9b6c3              NaN     0\n",
              "2997  c1ef5b66-0fd7-49d1-ae6b-5af84929414b              NaN     0\n",
              "2998  c1ef6724-f95f-40f1-b25b-de806d9bc39d              NaN     0\n",
              "2999  c1f55e7e-4065-4dc0-993e-a7c1704c6036              NaN     0\n",
              "\n",
              "[3000 rows x 3 columns]"
            ]
          },
          "metadata": {
            "tags": []
          },
          "execution_count": 25
        }
      ]
    },
    {
      "cell_type": "code",
      "metadata": {
        "id": "4ATWLK6KvFnd",
        "colab_type": "code",
        "colab": {
          "base_uri": "https://localhost:8080/",
          "height": 417
        },
        "outputId": "b79c7801-b7f0-41e2-e01e-985eaac4d430"
      },
      "source": [
        "result = result.drop(columns=['pred'])\n",
        "result"
      ],
      "execution_count": 27,
      "outputs": [
        {
          "output_type": "execute_result",
          "data": {
            "text/html": [
              "<div>\n",
              "<style scoped>\n",
              "    .dataframe tbody tr th:only-of-type {\n",
              "        vertical-align: middle;\n",
              "    }\n",
              "\n",
              "    .dataframe tbody tr th {\n",
              "        vertical-align: top;\n",
              "    }\n",
              "\n",
              "    .dataframe thead th {\n",
              "        text-align: right;\n",
              "    }\n",
              "</style>\n",
              "<table border=\"1\" class=\"dataframe\">\n",
              "  <thead>\n",
              "    <tr style=\"text-align: right;\">\n",
              "      <th></th>\n",
              "      <th>patientId</th>\n",
              "      <th>PredictionString</th>\n",
              "    </tr>\n",
              "  </thead>\n",
              "  <tbody>\n",
              "    <tr>\n",
              "      <th>0</th>\n",
              "      <td>0000a175-0e68-4ca4-b1af-167204a7e0bc</td>\n",
              "      <td>NaN</td>\n",
              "    </tr>\n",
              "    <tr>\n",
              "      <th>1</th>\n",
              "      <td>0005d3cc-3c3f-40b9-93c3-46231c3eb813</td>\n",
              "      <td>NaN</td>\n",
              "    </tr>\n",
              "    <tr>\n",
              "      <th>2</th>\n",
              "      <td>000686d7-f4fc-448d-97a0-44fa9c5d3aa6</td>\n",
              "      <td>NaN</td>\n",
              "    </tr>\n",
              "    <tr>\n",
              "      <th>3</th>\n",
              "      <td>000e3a7d-c0ca-4349-bb26-5af2d8993c3d</td>\n",
              "      <td>NaN</td>\n",
              "    </tr>\n",
              "    <tr>\n",
              "      <th>4</th>\n",
              "      <td>00100a24-854d-423d-a092-edcf6179e061</td>\n",
              "      <td>NaN</td>\n",
              "    </tr>\n",
              "    <tr>\n",
              "      <th>...</th>\n",
              "      <td>...</td>\n",
              "      <td>...</td>\n",
              "    </tr>\n",
              "    <tr>\n",
              "      <th>2995</th>\n",
              "      <td>c1e88810-9e4e-4f39-9306-8d314bfc1ff1</td>\n",
              "      <td>NaN</td>\n",
              "    </tr>\n",
              "    <tr>\n",
              "      <th>2996</th>\n",
              "      <td>c1ec035b-377b-416c-a281-f868b7c9b6c3</td>\n",
              "      <td>NaN</td>\n",
              "    </tr>\n",
              "    <tr>\n",
              "      <th>2997</th>\n",
              "      <td>c1ef5b66-0fd7-49d1-ae6b-5af84929414b</td>\n",
              "      <td>NaN</td>\n",
              "    </tr>\n",
              "    <tr>\n",
              "      <th>2998</th>\n",
              "      <td>c1ef6724-f95f-40f1-b25b-de806d9bc39d</td>\n",
              "      <td>NaN</td>\n",
              "    </tr>\n",
              "    <tr>\n",
              "      <th>2999</th>\n",
              "      <td>c1f55e7e-4065-4dc0-993e-a7c1704c6036</td>\n",
              "      <td>NaN</td>\n",
              "    </tr>\n",
              "  </tbody>\n",
              "</table>\n",
              "<p>3000 rows × 2 columns</p>\n",
              "</div>"
            ],
            "text/plain": [
              "                                 patientId PredictionString\n",
              "0     0000a175-0e68-4ca4-b1af-167204a7e0bc              NaN\n",
              "1     0005d3cc-3c3f-40b9-93c3-46231c3eb813              NaN\n",
              "2     000686d7-f4fc-448d-97a0-44fa9c5d3aa6              NaN\n",
              "3     000e3a7d-c0ca-4349-bb26-5af2d8993c3d              NaN\n",
              "4     00100a24-854d-423d-a092-edcf6179e061              NaN\n",
              "...                                    ...              ...\n",
              "2995  c1e88810-9e4e-4f39-9306-8d314bfc1ff1              NaN\n",
              "2996  c1ec035b-377b-416c-a281-f868b7c9b6c3              NaN\n",
              "2997  c1ef5b66-0fd7-49d1-ae6b-5af84929414b              NaN\n",
              "2998  c1ef6724-f95f-40f1-b25b-de806d9bc39d              NaN\n",
              "2999  c1f55e7e-4065-4dc0-993e-a7c1704c6036              NaN\n",
              "\n",
              "[3000 rows x 2 columns]"
            ]
          },
          "metadata": {
            "tags": []
          },
          "execution_count": 27
        }
      ]
    },
    {
      "cell_type": "code",
      "metadata": {
        "id": "MJaw-jbCv8M8",
        "colab_type": "code",
        "colab": {}
      },
      "source": [
        "path = 'drive/My Drive/cs-175-project/predictions/combined_prediction.csv'\n",
        "result.to_csv(path, index=False)"
      ],
      "execution_count": 0,
      "outputs": []
    }
  ],
  "metadata": {
    "colab": {
      "name": "combining_predictions.ipynb",
      "provenance": [],
      "authorship_tag": "ABX9TyPtrL3UaO8hkltV9dEeoSQk",
      "include_colab_link": true
    },
    "kernelspec": {
      "name": "python3",
      "display_name": "Python 3"
    }
  },
  "nbformat": 4,
  "nbformat_minor": 0
}