{
  "nbformat": 4,
  "nbformat_minor": 0,
  "metadata": {
    "kernelspec": {
      "display_name": "Python 3",
      "language": "python",
      "name": "python3"
    },
    "language_info": {
      "codemirror_mode": {
        "name": "ipython",
        "version": 2
      },
      "file_extension": ".py",
      "mimetype": "text/x-python",
      "name": "python",
      "nbconvert_exporter": "python",
      "pygments_lexer": "ipython2",
      "version": "2.7.6"
    },
    "pycharm": {
      "stem_cell": {
        "cell_type": "raw",
        "source": [],
        "metadata": {
          "collapsed": false
        }
      }
    },
    "colab": {
      "name": "train.ipynb",
      "provenance": [],
      "include_colab_link": true
    },
    "accelerator": "GPU"
  },
  "cells": [
    {
      "cell_type": "markdown",
      "metadata": {
        "id": "view-in-github",
        "colab_type": "text"
      },
      "source": [
        "<a href=\"https://colab.research.google.com/github/JasonD28/CS-175/blob/master/scripts/train.ipynb\" target=\"_parent\"><img src=\"https://colab.research.google.com/assets/colab-badge.svg\" alt=\"Open In Colab\"/></a>"
      ]
    },
    {
      "cell_type": "code",
      "metadata": {
        "id": "q3RyiJHima87",
        "colab_type": "code",
        "outputId": "89ccbb1a-21a5-4cc6-80f0-1439d5525a29",
        "colab": {
          "base_uri": "https://localhost:8080/",
          "height": 35
        }
      },
      "source": [
        "import os\n",
        "from google.colab import drive\n",
        "drive.mount('/content/drive')"
      ],
      "execution_count": 1,
      "outputs": [
        {
          "output_type": "stream",
          "text": [
            "Drive already mounted at /content/drive; to attempt to forcibly remount, call drive.mount(\"/content/drive\", force_remount=True).\n"
          ],
          "name": "stdout"
        }
      ]
    },
    {
      "cell_type": "code",
      "metadata": {
        "id": "c2m97kwSnFuN",
        "colab_type": "code",
        "outputId": "2dd64edf-9468-4f42-9710-316c6491cd3b",
        "colab": {
          "base_uri": "https://localhost:8080/",
          "height": 35
        }
      },
      "source": [
        "!pip install pydicom"
      ],
      "execution_count": 2,
      "outputs": [
        {
          "output_type": "stream",
          "text": [
            "Requirement already satisfied: pydicom in /usr/local/lib/python3.6/dist-packages (2.0.0)\n"
          ],
          "name": "stdout"
        }
      ]
    },
    {
      "cell_type": "code",
      "metadata": {
        "id": "5dDw0fmio5TD",
        "colab_type": "code",
        "outputId": "682d33ad-9f73-4600-9179-5245fe688a5c",
        "colab": {
          "base_uri": "https://localhost:8080/",
          "height": 138
        }
      },
      "source": [
        "%%shell\n",
        "rm -r CS-175\n",
        "git clone https://github.com/JasonD28/CS-175.git\n",
        "cd CS-175\n",
        "cp model/dataset.py  ../"
      ],
      "execution_count": 3,
      "outputs": [
        {
          "output_type": "stream",
          "text": [
            "Cloning into 'CS-175'...\n",
            "remote: Enumerating objects: 66, done.\u001b[K\n",
            "remote: Counting objects: 100% (66/66), done.\u001b[K\n",
            "remote: Compressing objects: 100% (59/59), done.\u001b[K\n",
            "remote: Total 238 (delta 41), reused 16 (delta 7), pack-reused 172\u001b[K\n",
            "Receiving objects: 100% (238/238), 1.04 MiB | 22.16 MiB/s, done.\n",
            "Resolving deltas: 100% (131/131), done.\n"
          ],
          "name": "stdout"
        },
        {
          "output_type": "execute_result",
          "data": {
            "text/plain": [
              ""
            ]
          },
          "metadata": {
            "tags": []
          },
          "execution_count": 3
        }
      ]
    },
    {
      "cell_type": "code",
      "metadata": {
        "id": "vjNmEHEcsfzF",
        "colab_type": "code",
        "outputId": "9c663ec6-7b43-4a7b-9e57-771ca415dd5a",
        "colab": {
          "base_uri": "https://localhost:8080/",
          "height": 69
        }
      },
      "source": [
        "%%shell\n",
        "\n",
        "git clone https://github.com/pytorch/vision.git\n",
        "cd vision\n",
        "git checkout v0.5.1\n",
        "\n",
        "cp references/detection/utils.py ../\n",
        "cp references/detection/engine.py ../\n",
        "cp references/detection/transforms.py ../\n",
        "cp references/detection/coco_eval.py ../\n",
        "cp references/detection/coco_utils.py ../"
      ],
      "execution_count": 4,
      "outputs": [
        {
          "output_type": "stream",
          "text": [
            "fatal: destination path 'vision' already exists and is not an empty directory.\n",
            "Already on 'v0.5.1'\n",
            "Your branch is up to date with 'origin/v0.5.1'.\n"
          ],
          "name": "stdout"
        },
        {
          "output_type": "execute_result",
          "data": {
            "text/plain": [
              ""
            ]
          },
          "metadata": {
            "tags": []
          },
          "execution_count": 4
        }
      ]
    },
    {
      "cell_type": "code",
      "metadata": {
        "id": "mEb5acNeo9B3",
        "colab_type": "code",
        "colab": {}
      },
      "source": [
        "import torch\n",
        "from torch import optim\n",
        "import torchvision\n",
        "from dataset import PneumoniaDataset\n",
        "\n",
        "import torch.nn as nn\n",
        "from torch.autograd import Variable\n",
        "from torch.utils.data import DataLoader\n",
        "from torch.utils.data import sampler\n",
        "from torch.nn.functional import relu as Relu\n",
        "from torch import sigmoid\n",
        "\n",
        "import torchvision.datasets as dset\n",
        "import torchvision.transforms as T\n",
        "\n",
        "import numpy as np\n",
        "\n",
        "import timeit\n",
        "\n",
        "import utils\n",
        "\n",
        "import pandas as pd"
      ],
      "execution_count": 0,
      "outputs": []
    },
    {
      "cell_type": "code",
      "metadata": {
        "id": "9C40esjJEcT0",
        "colab_type": "code",
        "colab": {}
      },
      "source": [
        "def Flatten(x):\n",
        "    N, C, H, W = x.size() # read in N, C, H, W\n",
        "    return x.view(N, -1)"
      ],
      "execution_count": 0,
      "outputs": []
    },
    {
      "cell_type": "code",
      "metadata": {
        "id": "fdsPiXkBpGXd",
        "colab_type": "code",
        "colab": {}
      },
      "source": [
        "class NeuralNet(nn.Module):\n",
        "    def __init__(self):\n",
        "        super(NeuralNet, self).__init__()\n",
        "        ksize = 3\n",
        "        netPadding = (ksize-1)//2\n",
        "        self.convInput = nn.Conv2d(1, 32, kernel_size=ksize, stride=1, padding=netPadding)\n",
        "        self.conv32 = nn.Conv2d(32, 32, kernel_size=ksize, stride=1, padding=netPadding)\n",
        "        self.conv32to64 = nn.Conv2d(32, 64, kernel_size=ksize, stride=1, padding=netPadding)\n",
        "        self.conv64 = nn.Conv2d(64, 64, kernel_size=ksize, stride=1, padding=netPadding)\n",
        "        self.conv64to128 = nn.Conv2d(64, 128, kernel_size=ksize, stride=1, padding=netPadding)\n",
        "        self.conv128 = nn.Conv2d(128, 128, kernel_size=ksize, stride=1, padding=netPadding)\n",
        "        self.conv128to256 = nn.Conv2d(128, 256, kernel_size=ksize, stride=1, padding=netPadding)\n",
        "        self.conv256 = nn.Conv2d(256, 256, kernel_size=ksize, stride=1, padding=netPadding)\n",
        "        self.conv256to128 = nn.Conv2d(256, 128, kernel_size=ksize, stride=1, padding=netPadding)\n",
        "        self.conv128to64 = nn.Conv2d(128, 64, kernel_size=ksize, stride=1, padding=netPadding)\n",
        "        self.conv64to1 = nn.Conv2d(64, 1, kernel_size=ksize, stride=1, padding=netPadding)\n",
        "        self.pooling = nn.MaxPool2d(kernel_size=2, stride=2)\n",
        "        self.pooling2 = nn.MaxPool2d(kernel_size=5, stride=2)\n",
        "        self.upsampling = nn.Upsample(scale_factor=(2,2))\n",
        "        self.linearto2048 = nn.Linear(4096,2048)\n",
        "        self.linearto3 = nn.Linear(2048,3)\n",
        "\n",
        "    def forward(self, x):\n",
        "        # out = model(x) # Not sure what this does\n",
        "        x = Relu(self.convInput(x), inplace=True)\n",
        "        x = Relu(self.conv32(x), inplace=True)\n",
        "        poolX = self.pooling(x)\n",
        "        \n",
        "        x2 = Relu(self.conv32to64(poolX), inplace=True)\n",
        "        x2 = Relu(self.conv64(x2), inplace=True)\n",
        "        poolX2 = self.pooling(x2)\n",
        "\n",
        "        x3 = Relu(self.conv64(poolX2), inplace=True)\n",
        "        x3 = Relu(self.conv64(x3), inplace=True)\n",
        "        poolX3 = self.pooling(x3)\n",
        "        # print(f'Pool 3: {poolX3.shape}')\n",
        "        \n",
        "        x4 = Relu(self.conv64to128(poolX3), inplace=True)\n",
        "        x4 = Relu(self.conv128(x4), inplace=True)\n",
        "        poolX4 = self.pooling(x4)\n",
        "        \n",
        "        x5 = Relu(self.conv128to256(poolX4), inplace=True)\n",
        "        \n",
        "        up6 = self.upsampling(x5)\n",
        "        x6 = Relu(self.conv256(up6), inplace=True)\n",
        "        x6 = Relu(self.conv256(x6), inplace=True)\n",
        "        poolX6 = x6 #self.pooling(x6)\n",
        "        # print(f'Pool 6: {poolX6.shape}')\n",
        "        x6 = Relu(self.conv256(poolX6), inplace=True)\n",
        "        \n",
        "        up7 = x6 #self.upsampling(x6)\n",
        "        x7 = Relu(self.conv256(up7), inplace=True)\n",
        "        x7 = Relu(self.conv256(x7), inplace=True)\n",
        "        poolX7 = self.pooling(x7)\n",
        "        x7 = Relu(self.conv256(poolX7), inplace=True)\n",
        "        \n",
        "        up8 = self.upsampling(x7)\n",
        "        x8 = Relu(self.conv256to128(up8), inplace=True)\n",
        "        x8 = Relu(self.conv128(x8), inplace=True)\n",
        "        poolX8 = x8  #self.pooling(x8)\n",
        "        # print(f'Pool 8: {poolX8.shape}')\n",
        "        x8 = Relu(self.conv128(poolX8), inplace=True)\n",
        "        \n",
        "        up9 = x8 #self.upsampling(x8)\n",
        "        x9 = Relu(self.conv128to64(up9), inplace=True)\n",
        "        x9 = Relu(self.conv64(x9), inplace=True)\n",
        "        poolX9 = self.pooling(x9)\n",
        "        x9 = Relu(self.conv64(poolX9), inplace=True)\n",
        "        \n",
        "        x10 = Flatten(self.conv64to1(x9))\n",
        "        # print(f'Final Layer: {self.conv64to1(x9).shape}')\n",
        "        x11 = Relu(self.linearto2048(x10), inplace=True)\n",
        "        x12 = self.linearto3(x11)\n",
        "        # x13 = sigmoid(x12)\n",
        "        # x10 = sigmoid(self.conv64to1(x9))\n",
        "        \n",
        "        return x12"
      ],
      "execution_count": 0,
      "outputs": []
    },
    {
      "cell_type": "code",
      "metadata": {
        "id": "2NedssYuw3Em",
        "colab_type": "code",
        "colab": {}
      },
      "source": [
        "class Classifier(nn.Module):\n",
        "  def __init__(self):\n",
        "        super(Classifier, self).__init__()\n",
        "        ksize = 3\n",
        "        netPadding = (ksize-1)//2\n",
        "        self.convInput = nn.Conv2d(1, 32, kernel_size=ksize, stride=1, padding=netPadding)\n",
        "        self.conv32 = nn.Conv2d(32, 32, kernel_size=ksize, stride=1, padding=netPadding)\n",
        "        self.conv32to64 = nn.Conv2d(32, 64, kernel_size=ksize, stride=1, padding=netPadding)\n",
        "        self.conv64 = nn.Conv2d(64, 64, kernel_size=ksize, stride=1, padding=netPadding)\n",
        "        self.conv64to128 = nn.Conv2d(64, 128, kernel_size=ksize, stride=1, padding=netPadding)\n",
        "        self.conv128 = nn.Conv2d(128, 128, kernel_size=ksize, stride=1, padding=netPadding)\n",
        "        self.conv128to256 = nn.Conv2d(128, 256, kernel_size=ksize, stride=1, padding=netPadding)\n",
        "        self.conv256 = nn.Conv2d(256, 256, kernel_size=ksize, stride=1, padding=netPadding)\n",
        "        self.conv256to128 = nn.Conv2d(256, 128, kernel_size=ksize, stride=1, padding=netPadding)\n",
        "        self.conv128to64 = nn.Conv2d(128, 64, kernel_size=ksize, stride=1, padding=netPadding)\n",
        "        self.conv64to1 = nn.Conv2d(64, 1, kernel_size=ksize, stride=1, padding=netPadding)\n",
        "        self.pooling = nn.MaxPool2d(kernel_size=2, stride=2)\n",
        "        self.pooling2 = nn.MaxPool2d(kernel_size=5, stride=2)\n",
        "        self.upsampling = nn.Upsample(scale_factor=(2,2))\n",
        "        self.linearto128 = nn.Linear(2097152,128)\n",
        "        self.linearto2048 = nn.Linear(4096,2048)\n",
        "        self.linearto3 = nn.Linear(2048,3)\n",
        "        self.linearto1 = nn.Linear(128,1)\n",
        "        #self.linear2to1 = nn.Linear(2,1)\n",
        "        #self.linear1to1 = nn.Linear(1,1)\n",
        "        self.dropout = nn.Dropout(0.2)\n",
        "\n",
        "  def forward(self, x):\n",
        "        # out = model(x) # Not sure what this does\n",
        "        x = Relu(self.convInput(x), inplace=True)\n",
        "        x = Relu(self.conv32(x), inplace=True)\n",
        "        poolX = self.pooling(x)\n",
        "        \n",
        "        x2 = self.dropout(poolX)\n",
        "        x2 = Relu(self.conv32to64(x2), inplace=True)\n",
        "        x2 = Relu(self.conv64(x2), inplace=True)\n",
        "        poolX2 = self.pooling(x2)\n",
        "\n",
        "        x3 = self.dropout(poolX2)\n",
        "        \n",
        "        x4 = Relu(self.conv64to128(x3), inplace=True)\n",
        "        x4 = Relu(self.conv128(x4), inplace=True)\n",
        "        poolX4 = self.pooling(x4)\n",
        "        #print(poolX4.shape)\n",
        "        x5 = self.dropout(poolX4)\n",
        "        #print(x5.shape)\n",
        "        x5 = Flatten(x5)\n",
        "        \n",
        "        x6 = Relu(self.linearto128(x5), inplace=True)\n",
        "        x6 = self.dropout(x6)\n",
        "        \n",
        "        #x7 = sigmoid(self.linearto1(x6))\n",
        "        x7 = self.linearto1(x6)\n",
        "        return x7"
      ],
      "execution_count": 0,
      "outputs": []
    },
    {
      "cell_type": "code",
      "metadata": {
        "id": "EpSviSegDRkW",
        "colab_type": "code",
        "colab": {}
      },
      "source": [
        "class Classifier(nn.Module):\n",
        "  def __init__(self):\n",
        "        super(Classifier, self).__init__()\n",
        "        ksize = 3\n",
        "        netPadding = (ksize-1)//2\n",
        "        self.convInput = nn.Conv2d(1, 32, kernel_size=ksize, stride=1, padding=netPadding)\n",
        "        self.conv32 = nn.Conv2d(32, 32, kernel_size=ksize, stride=1, padding=netPadding)\n",
        "        self.conv32to64 = nn.Conv2d(32, 64, kernel_size=ksize, stride=1, padding=netPadding)\n",
        "        self.conv64 = nn.Conv2d(64, 64, kernel_size=ksize, stride=1, padding=netPadding)\n",
        "        self.conv64to128 = nn.Conv2d(64, 128, kernel_size=ksize, stride=1, padding=netPadding)\n",
        "        self.conv128 = nn.Conv2d(128, 128, kernel_size=ksize, stride=1, padding=netPadding)\n",
        "        self.conv128to256 = nn.Conv2d(128, 256, kernel_size=ksize, stride=1, padding=netPadding)\n",
        "        self.conv256 = nn.Conv2d(256, 256, kernel_size=ksize, stride=1, padding=netPadding)\n",
        "        self.conv256to128 = nn.Conv2d(256, 128, kernel_size=ksize, stride=1, padding=netPadding)\n",
        "        self.conv128to64 = nn.Conv2d(128, 64, kernel_size=ksize, stride=1, padding=netPadding)\n",
        "        self.conv64to1 = nn.Conv2d(64, 1, kernel_size=ksize, stride=1, padding=netPadding)\n",
        "        self.pooling = nn.MaxPool2d(kernel_size=2, stride=2)\n",
        "        self.pooling2 = nn.MaxPool2d(kernel_size=5, stride=2)\n",
        "        self.upsampling = nn.Upsample(scale_factor=(2,2))\n",
        "        self.linearto128 = nn.Linear(2097152,128)\n",
        "        self.linearto2048 = nn.Linear(4096,2048)\n",
        "        self.linearto3 = nn.Linear(2048,3)\n",
        "        self.linearto1 = nn.Linear(128,1)\n",
        "        self.linear2to1 = nn.Linear(2,1)\n",
        "        self.linear1to1 = nn.Linear(1,1)\n",
        "        self.dropout = nn.Dropout(0.2)\n",
        "\n",
        "  def forward(self, x, data):\n",
        "        # out = model(x) # Not sure what this does\n",
        "        x = Relu(self.convInput(x), inplace=True)\n",
        "        x = Relu(self.conv32(x), inplace=True)\n",
        "        poolX = self.pooling(x)\n",
        "        \n",
        "        x2 = self.dropout(poolX)\n",
        "        x2 = Relu(self.conv32to64(x2), inplace=True)\n",
        "        x2 = Relu(self.conv64(x2), inplace=True)\n",
        "        poolX2 = self.pooling(x2)\n",
        "\n",
        "        x3 = self.dropout(poolX2)\n",
        "        \n",
        "        x4 = Relu(self.conv64to128(x3), inplace=True)\n",
        "        x4 = Relu(self.conv128(x4), inplace=True)\n",
        "        poolX4 = self.pooling(x4)\n",
        "        #print(poolX4.shape)\n",
        "        x5 = self.dropout(poolX4)\n",
        "        #print(x5.shape)\n",
        "        x5 = Flatten(x5)\n",
        "        \n",
        "        x6 = Relu(self.linearto128(x5), inplace=True)\n",
        "        x6 = self.dropout(x6)\n",
        "        \n",
        "        #x7 = sigmoid(self.linearto1(x6))\n",
        "        x7 = self.linearto1(x6)\n",
        "        xD = data\n",
        "        #print(x7.shape, xD.shape)\n",
        "        x8 = torch.cat((x7, xD), dim=1)\n",
        "        #print(x8)\n",
        "        x9 = Relu(self.linear2to1(x8))\n",
        "        x10 = self.linear1to1(x9)\n",
        "        return x10"
      ],
      "execution_count": 0,
      "outputs": []
    },
    {
      "cell_type": "code",
      "metadata": {
        "id": "H-z85WnQqm-f",
        "colab_type": "code",
        "colab": {}
      },
      "source": [
        "root = \"drive/My Drive/cs-175-project/cs-175-data\""
      ],
      "execution_count": 0,
      "outputs": []
    },
    {
      "cell_type": "code",
      "metadata": {
        "id": "ZvaEOT9tqzPx",
        "colab_type": "code",
        "outputId": "98bb3809-b152-44ea-c4b6-05690b1af5c8",
        "colab": {
          "base_uri": "https://localhost:8080/",
          "height": 380
        }
      },
      "source": [
        "model = Classifier();\n",
        "device = torch.device('cuda') if torch.cuda.is_available() else torch.device('cpu')\n",
        "model.to(device)"
      ],
      "execution_count": 81,
      "outputs": [
        {
          "output_type": "execute_result",
          "data": {
            "text/plain": [
              "Classifier(\n",
              "  (convInput): Conv2d(1, 32, kernel_size=(3, 3), stride=(1, 1), padding=(1, 1))\n",
              "  (conv32): Conv2d(32, 32, kernel_size=(3, 3), stride=(1, 1), padding=(1, 1))\n",
              "  (conv32to64): Conv2d(32, 64, kernel_size=(3, 3), stride=(1, 1), padding=(1, 1))\n",
              "  (conv64): Conv2d(64, 64, kernel_size=(3, 3), stride=(1, 1), padding=(1, 1))\n",
              "  (conv64to128): Conv2d(64, 128, kernel_size=(3, 3), stride=(1, 1), padding=(1, 1))\n",
              "  (conv128): Conv2d(128, 128, kernel_size=(3, 3), stride=(1, 1), padding=(1, 1))\n",
              "  (conv128to256): Conv2d(128, 256, kernel_size=(3, 3), stride=(1, 1), padding=(1, 1))\n",
              "  (conv256): Conv2d(256, 256, kernel_size=(3, 3), stride=(1, 1), padding=(1, 1))\n",
              "  (conv256to128): Conv2d(256, 128, kernel_size=(3, 3), stride=(1, 1), padding=(1, 1))\n",
              "  (conv128to64): Conv2d(128, 64, kernel_size=(3, 3), stride=(1, 1), padding=(1, 1))\n",
              "  (conv64to1): Conv2d(64, 1, kernel_size=(3, 3), stride=(1, 1), padding=(1, 1))\n",
              "  (pooling): MaxPool2d(kernel_size=2, stride=2, padding=0, dilation=1, ceil_mode=False)\n",
              "  (pooling2): MaxPool2d(kernel_size=5, stride=2, padding=0, dilation=1, ceil_mode=False)\n",
              "  (upsampling): Upsample(scale_factor=(2.0, 2.0), mode=nearest)\n",
              "  (linearto128): Linear(in_features=2097152, out_features=128, bias=True)\n",
              "  (linearto2048): Linear(in_features=4096, out_features=2048, bias=True)\n",
              "  (linearto3): Linear(in_features=2048, out_features=3, bias=True)\n",
              "  (linearto1): Linear(in_features=128, out_features=1, bias=True)\n",
              "  (dropout): Dropout(p=0.2, inplace=False)\n",
              ")"
            ]
          },
          "metadata": {
            "tags": []
          },
          "execution_count": 81
        }
      ]
    },
    {
      "cell_type": "code",
      "metadata": {
        "id": "u7deG3lprGQC",
        "colab_type": "code",
        "colab": {}
      },
      "source": [
        "dataset = PneumoniaDataset(root, True)"
      ],
      "execution_count": 0,
      "outputs": []
    },
    {
      "cell_type": "code",
      "metadata": {
        "id": "cvr-6yGW4smK",
        "colab_type": "code",
        "colab": {}
      },
      "source": [
        "test_dataset = PneumoniaDataset(root, True)\n",
        "indices = torch.randperm(len(dataset)).tolist()\n",
        "dataset = torch.utils.data.Subset(dataset, indices[:-1000])\n",
        "test_dataset = torch.utils.data.Subset(test_dataset, indices[-1000:])\n",
        "\n",
        "data_loader = torch.utils.data.DataLoader(\n",
        "        dataset, batch_size=10, shuffle=True, num_workers=8,\n",
        "        collate_fn=utils.collate_fn)\n",
        "\n",
        "test_data_loader = torch.utils.data.DataLoader(\n",
        "    test_dataset, batch_size=1, shuffle=False, num_workers=4,\n",
        "    collate_fn=utils.collate_fn)\n",
        "\n",
        "optimizer = optim.Adam(model.parameters(), lr=1e-3)\n",
        "lr_step = torch.optim.lr_scheduler.StepLR(optimizer, step_size=2, gamma=0.1)"
      ],
      "execution_count": 0,
      "outputs": []
    },
    {
      "cell_type": "code",
      "metadata": {
        "id": "Opz_nduVr--o",
        "colab_type": "code",
        "colab": {}
      },
      "source": [
        "def train(train_data, dtype, model, loss_fn, optimizer, num_epochs=1):\n",
        "    for epoch in range(num_epochs):\n",
        "        print('Starting epoch %d / %d' % (epoch + 1, num_epochs))\n",
        "        model.train()\n",
        "        #print(train_data.shape)\n",
        "        for t, (image, target) in enumerate(train_data):\n",
        "            #print(image)\n",
        "            # images = list(img for img in image)\n",
        "            imgs = torch.tensor([img.numpy() for img in image], dtype=torch.float32)\n",
        "            x_var = Variable(imgs.type(dtype))\n",
        "            l = []\n",
        "            metadata = []\n",
        "            for tar in target:\n",
        "              #print(tar)\n",
        "              # print(len(tar['labels']))\n",
        "              if len(tar['labels']) > 1:\n",
        "                # temp = [list(tar['labels'])[0]]\n",
        "                l.append([1])\n",
        "              else:\n",
        "                if tar['labels'] == 2:\n",
        "                  l.append([1])\n",
        "                else:\n",
        "                  l.append([0])\n",
        "              metadata.append([tar['position']])\n",
        "            # print(l)\n",
        "            y_var = torch.tensor(l).cuda() # Variable(labels.type(dtype).cuda())\n",
        "            #print(y_var)\n",
        "            \n",
        "            scores = model(imgs.cuda(), torch.tensor(metadata).cuda().float())\n",
        "            #print(scores)\n",
        "            loss = loss_fn(scores, y_var.float())\n",
        "            if (t + 1) % 100 == 0:\n",
        "              print('t = %d, loss = %.4f' % (t + 1, loss.item()))\n",
        "              print(y_var)\n",
        "              print(scores)\n",
        "            optimizer.zero_grad()\n",
        "            loss.backward()\n",
        "            optimizer.step()"
      ],
      "execution_count": 0,
      "outputs": []
    },
    {
      "cell_type": "code",
      "metadata": {
        "id": "2Gy3QlPBs1O9",
        "colab_type": "code",
        "colab": {}
      },
      "source": [
        "gpu_dtype = torch.cuda.FloatTensor\n",
        "loss_fn = nn.BCEWithLogitsLoss().type(gpu_dtype)"
      ],
      "execution_count": 0,
      "outputs": []
    },
    {
      "cell_type": "code",
      "metadata": {
        "id": "05Q7lCqLtguQ",
        "colab_type": "code",
        "outputId": "fc01932b-b93d-48f0-9abf-cf3ea0ed6c54",
        "colab": {
          "base_uri": "https://localhost:8080/",
          "height": 305
        }
      },
      "source": [
        "train(data_loader, gpu_dtype, model, loss_fn, optimizer, 15)"
      ],
      "execution_count": 15,
      "outputs": [
        {
          "output_type": "stream",
          "text": [
            "Starting epoch 1 / 15\n"
          ],
          "name": "stdout"
        },
        {
          "output_type": "error",
          "ename": "KeyboardInterrupt",
          "evalue": "ignored",
          "traceback": [
            "\u001b[0;31m---------------------------------------------------------------------------\u001b[0m",
            "\u001b[0;31mKeyboardInterrupt\u001b[0m                         Traceback (most recent call last)",
            "\u001b[0;32m<ipython-input-15-422beb180143>\u001b[0m in \u001b[0;36m<module>\u001b[0;34m()\u001b[0m\n\u001b[0;32m----> 1\u001b[0;31m \u001b[0mtrain\u001b[0m\u001b[0;34m(\u001b[0m\u001b[0mdata_loader\u001b[0m\u001b[0;34m,\u001b[0m \u001b[0mgpu_dtype\u001b[0m\u001b[0;34m,\u001b[0m \u001b[0mmodel\u001b[0m\u001b[0;34m,\u001b[0m \u001b[0mloss_fn\u001b[0m\u001b[0;34m,\u001b[0m \u001b[0moptimizer\u001b[0m\u001b[0;34m,\u001b[0m \u001b[0;36m15\u001b[0m\u001b[0;34m)\u001b[0m\u001b[0;34m\u001b[0m\u001b[0;34m\u001b[0m\u001b[0m\n\u001b[0m",
            "\u001b[0;32m<ipython-input-13-0d0a993b11f7>\u001b[0m in \u001b[0;36mtrain\u001b[0;34m(train_data, dtype, model, loss_fn, optimizer, num_epochs)\u001b[0m\n\u001b[1;32m      7\u001b[0m             \u001b[0;31m#print(image)\u001b[0m\u001b[0;34m\u001b[0m\u001b[0;34m\u001b[0m\u001b[0;34m\u001b[0m\u001b[0m\n\u001b[1;32m      8\u001b[0m             \u001b[0;31m# images = list(img for img in image)\u001b[0m\u001b[0;34m\u001b[0m\u001b[0;34m\u001b[0m\u001b[0;34m\u001b[0m\u001b[0m\n\u001b[0;32m----> 9\u001b[0;31m             \u001b[0mimgs\u001b[0m \u001b[0;34m=\u001b[0m \u001b[0mtorch\u001b[0m\u001b[0;34m.\u001b[0m\u001b[0mtensor\u001b[0m\u001b[0;34m(\u001b[0m\u001b[0;34m[\u001b[0m\u001b[0mimg\u001b[0m\u001b[0;34m.\u001b[0m\u001b[0mnumpy\u001b[0m\u001b[0;34m(\u001b[0m\u001b[0;34m)\u001b[0m \u001b[0;32mfor\u001b[0m \u001b[0mimg\u001b[0m \u001b[0;32min\u001b[0m \u001b[0mimage\u001b[0m\u001b[0;34m]\u001b[0m\u001b[0;34m,\u001b[0m \u001b[0mdtype\u001b[0m\u001b[0;34m=\u001b[0m\u001b[0mtorch\u001b[0m\u001b[0;34m.\u001b[0m\u001b[0mfloat32\u001b[0m\u001b[0;34m)\u001b[0m\u001b[0;34m\u001b[0m\u001b[0;34m\u001b[0m\u001b[0m\n\u001b[0m\u001b[1;32m     10\u001b[0m             \u001b[0mx_var\u001b[0m \u001b[0;34m=\u001b[0m \u001b[0mVariable\u001b[0m\u001b[0;34m(\u001b[0m\u001b[0mimgs\u001b[0m\u001b[0;34m.\u001b[0m\u001b[0mtype\u001b[0m\u001b[0;34m(\u001b[0m\u001b[0mdtype\u001b[0m\u001b[0;34m)\u001b[0m\u001b[0;34m)\u001b[0m\u001b[0;34m\u001b[0m\u001b[0;34m\u001b[0m\u001b[0m\n\u001b[1;32m     11\u001b[0m             \u001b[0ml\u001b[0m \u001b[0;34m=\u001b[0m \u001b[0;34m[\u001b[0m\u001b[0;34m]\u001b[0m\u001b[0;34m\u001b[0m\u001b[0;34m\u001b[0m\u001b[0m\n",
            "\u001b[0;31mKeyboardInterrupt\u001b[0m: "
          ]
        }
      ]
    },
    {
      "cell_type": "code",
      "metadata": {
        "id": "CSUl43-5_90w",
        "colab_type": "code",
        "colab": {}
      },
      "source": [
        "torch.save(model.state_dict(), 'drive/My Drive/cs-175-project/model_checkpoints/classifier_w_metadata_e15.pt')"
      ],
      "execution_count": 0,
      "outputs": []
    },
    {
      "cell_type": "code",
      "metadata": {
        "id": "0DiE7nPmnZDb",
        "colab_type": "code",
        "colab": {
          "base_uri": "https://localhost:8080/",
          "height": 35
        },
        "outputId": "8e2475c3-fdfe-4dd6-95a2-3c8f19a82a21"
      },
      "source": [
        "model.load_state_dict(torch.load('drive/My Drive/cs-175-project/model_checkpoints/classifier_08_13_e6.pt'))"
      ],
      "execution_count": 82,
      "outputs": [
        {
          "output_type": "execute_result",
          "data": {
            "text/plain": [
              "<All keys matched successfully>"
            ]
          },
          "metadata": {
            "tags": []
          },
          "execution_count": 82
        }
      ]
    },
    {
      "cell_type": "code",
      "metadata": {
        "id": "yWU4kn1TXk6P",
        "colab_type": "code",
        "colab": {}
      },
      "source": [
        "def check_accuracy(model, loader):\n",
        "    \"\"\"if loader.dataset.train:\n",
        "        print('Checking accuracy on validation set')\n",
        "    else:\n",
        "        print('Checking accuracy on test set')\"\"\"  \n",
        "    num_correct = 0\n",
        "    num_samples = 0\n",
        "    model.eval() # Put the model in test mode (the opposite of model.train(), essentially)\n",
        "    for t, (image, target) in enumerate(loader):\n",
        "        with torch.no_grad():\n",
        "          imgs = torch.tensor([img.numpy() for img in image], dtype=torch.float32)\n",
        "           # x_var = Variable(x.type(gpu_dtype))\n",
        "          l = []\n",
        "          metadata = []\n",
        "          for tar in target:\n",
        "            #print(tar)\n",
        "            if len(tar['labels']) > 1:\n",
        "                # temp = [list(tar['labels'])[0]]\n",
        "              l.append([1])\n",
        "            else:\n",
        "              if tar['labels'] == 2:\n",
        "                l.append([1])\n",
        "              else:\n",
        "                l.append([0])\n",
        "            metadata.append([tar['position']])\n",
        "          l = torch.tensor(l)\n",
        "        #preds = model(imgs.cuda())\n",
        "        raw_scores = sigmoid(model(imgs.cuda()))\n",
        "        #print(raw_scores)\n",
        "        scores = torch.tensor([int(raw_scores > 0.37)])\n",
        "        # print(scores)\n",
        "        # print([(x, y) for x, y in zip(scores, l)])\n",
        "        # _, preds = scores.data.cpu().max(1)\n",
        "        num_correct += (scores == l).sum()\n",
        "        num_samples += scores.size(0)\n",
        "        if (t + 1) % 100 == 0:\n",
        "            print('t = %d, num_correct = %d, num_samples = %d' % (t + 1, num_correct, num_samples))\n",
        "    acc = float(num_correct) / num_samples\n",
        "    print('Got %d / %d correct (%.2f)' % (num_correct, num_samples, 100 * acc))"
      ],
      "execution_count": 0,
      "outputs": []
    },
    {
      "cell_type": "code",
      "metadata": {
        "id": "Skqwr_rfvbGs",
        "colab_type": "code",
        "colab": {}
      },
      "source": [
        "test_dataset = PneumoniaDataset(root, True, 'test')\n",
        "\n",
        "test_data_loader = torch.utils.data.DataLoader(\n",
        "    test_dataset, batch_size=1, shuffle=False, num_workers=4,\n",
        "    collate_fn=utils.collate_fn)"
      ],
      "execution_count": 0,
      "outputs": []
    },
    {
      "cell_type": "code",
      "metadata": {
        "id": "_Qcj34Fan09a",
        "colab_type": "code",
        "colab": {
          "base_uri": "https://localhost:8080/",
          "height": 207
        },
        "outputId": "0da71141-d72b-4ea7-b77d-39ea1a006331"
      },
      "source": [
        "check_accuracy(model, test_data_loader)"
      ],
      "execution_count": 95,
      "outputs": [
        {
          "output_type": "stream",
          "text": [
            "t = 100, num_correct = 94, num_samples = 100\n",
            "t = 200, num_correct = 179, num_samples = 200\n",
            "t = 300, num_correct = 271, num_samples = 300\n",
            "t = 400, num_correct = 362, num_samples = 400\n",
            "t = 500, num_correct = 450, num_samples = 500\n",
            "t = 600, num_correct = 539, num_samples = 600\n",
            "t = 700, num_correct = 633, num_samples = 700\n",
            "t = 800, num_correct = 727, num_samples = 800\n",
            "t = 900, num_correct = 812, num_samples = 900\n",
            "t = 1000, num_correct = 901, num_samples = 1000\n",
            "Got 901 / 1000 correct (90.10)\n"
          ],
          "name": "stdout"
        }
      ]
    },
    {
      "cell_type": "code",
      "metadata": {
        "id": "vShcvu8EsBwG",
        "colab_type": "code",
        "colab": {}
      },
      "source": [
        "def save_preds(model, loader, dataset):\n",
        "    model.eval() # Put the model in test mode (the opposite of model.train(), essentially)\n",
        "    pIds = []\n",
        "    predictions = []\n",
        "    for index, (image, target) in enumerate(loader):\n",
        "        with torch.no_grad():\n",
        "          imgs = torch.tensor([img.numpy() for img in image], dtype=torch.float32)\n",
        "           # x_var = Variable(x.type(gpu_dtype))\n",
        "        \n",
        "        #print(target)\n",
        "        #metadata = torch.tensor([[target[0]['position']]]).cuda().float()\n",
        "        # print(imgs, metadata)\n",
        "        scores =  torch.tensor([int(sigmoid(model(imgs.cuda())) > 0.37)])\n",
        "        #_, preds = scores.data.cpu().max(1)\n",
        "        # print(preds)\n",
        "        patientId = dataset.imgs[index][:-4]\n",
        "        p = scores.numpy()[0]\n",
        "        pIds.append(patientId)\n",
        "        predictions.append(p)\n",
        "\n",
        "    #print(pIds)\n",
        "    #print(predictions)\n",
        "    d = {'patientId': pIds, 'pred': predictions}\n",
        "    df = pd.DataFrame(data=d)\n",
        "    path = 'drive/My Drive/cs-175-project/predictions/classifier_w_metadata_prediction.csv'\n",
        "    df.to_csv(path, index=False)\n"
      ],
      "execution_count": 0,
      "outputs": []
    },
    {
      "cell_type": "code",
      "metadata": {
        "id": "dtoepNovuzQ-",
        "colab_type": "code",
        "colab": {}
      },
      "source": [
        "save_preds(model, test_data_loader, test_dataset)"
      ],
      "execution_count": 0,
      "outputs": []
    }
  ]
}