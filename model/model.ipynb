{
 "cells": [
  {
   "cell_type": "code",
   "execution_count": 10,
   "metadata": {},
   "outputs": [],
   "source": [
    "import torch\n",
    "import torch.nn as nn\n",
    "import torch.optim as optim\n",
    "from torch.autograd import Variable\n",
    "from torch.utils.data import DataLoader\n",
    "from torch.utils.data import sampler\n",
    "from torch.nn.functional import relu as Relu\n",
    "\n",
    "import torchvision.datasets as dset\n",
    "import torchvision.transforms as T\n",
    "\n",
    "import numpy as np\n",
    "\n",
    "import timeit"
   ]
  },
  {
   "cell_type": "code",
   "execution_count": null,
   "metadata": {},
   "outputs": [],
   "source": []
  },
  {
   "cell_type": "code",
   "execution_count": 34,
   "metadata": {},
   "outputs": [],
   "source": [
    "class NeuralNet(nn.Module):\n",
    "    def __init__(self):\n",
    "        super(NeuralNet, self).__init__()\n",
    "        ksize = 3\n",
    "        netPadding = (ksize-1)//2\n",
    "        self.convInput = nn.Conv2d(1, 32, kernel_size=ksize, stride=1, padding=netPadding)\n",
    "        self.conv32 = nn.Conv2d(32, 32, kernel_size=ksize, stride=1, padding=netPadding)\n",
    "        self.conv32to64 = nn.Conv2d(32, 64, kernel_size=ksize, stride=1, padding=netPadding)\n",
    "        self.conv64 = nn.Conv2d(64, 64, kernel_size=ksize, stride=1, padding=netPadding)\n",
    "        self.conv64to128 = nn.Conv2d(64, 128, kernel_size=ksize, stride=1, padding=netPadding)\n",
    "        self.conv128 = nn.Conv2d(128, 128, kernel_size=ksize, stride=1, padding=netPadding)\n",
    "        self.conv128to256 = nn.Conv2d(128, 256, kernel_size=ksize, stride=1, padding=netPadding)\n",
    "        self.conv256 = nn.Conv2d(256, 256, kernel_size=ksize, stride=1, padding=netPadding)\n",
    "        self.conv256to128 = nn.Conv2d(256, 128, kernel_size=ksize, stride=1, padding=netPadding)\n",
    "        self.conv128to64 = nn.Conv2d(128, 64, kernel_size=ksize, stride=1, padding=netPadding)\n",
    "        self.conv64to1 = nn.Conv2d(64, 1, kernel_size=ksize, stride=1, padding=netPadding)\n",
    "        self.pooling = nn.MaxPool2d(kernel_size=2, stride=2)\n",
    "        self.upsampling = nn.Upsample(scale_factor=(2,2))\n",
    "\n",
    "    def forward(self, x):\n",
    "        # out = model(x) # Not sure what this does\n",
    "        x = Relu(self.convInput(x), inplace=True)\n",
    "        x = Relu(self.conv32(x), inplace=True)\n",
    "        poolX = self.pooling(x)\n",
    "        \n",
    "        x2 = Relu(self.conv32to64(poolX), inplace=True)\n",
    "        x2 = Relu(self.conv64(x2), inplace=True)\n",
    "        poolX2 = self.pooling(x2)\n",
    "\n",
    "        x3 = Relu(self.conv64(poolX2), inplace=True)\n",
    "        x3 = Relu(self.conv64(x3), inplace=True)\n",
    "        poolX3 = self.pooling(x3)\n",
    "        \n",
    "        x4 = Relu(self.conv64to128(poolX3), inplace=True)\n",
    "        x4 = Relu(self.conv128(x4), inplace=True)\n",
    "        poolX4 = self.pooling(x4)\n",
    "        \n",
    "        x5 = Relu(self.conv128to256(poolX4), inplace=True)\n",
    "        \n",
    "        up6 = self.upsampling(x5)\n",
    "        x6 = Relu(self.conv256(up6), inplace=True)\n",
    "        x6 = Relu(self.conv256(x6), inplace=True)\n",
    "        poolX6 = self.pooling(x6)\n",
    "        merge6 = poolX6 #torch.cat((x4,poolX6),-1)\n",
    "        x6 = Relu(self.conv256(merge6), inplace=True)\n",
    "        \n",
    "        up7 = self.upsampling(x6)\n",
    "        x7 = Relu(self.conv256(up7), inplace=True)\n",
    "        x7 = Relu(self.conv256(x7), inplace=True)\n",
    "        poolX7 = self.pooling(x7)\n",
    "        merge7 = poolX7 #torch.cat((x3,poolX7),-1)\n",
    "        x7 = Relu(self.conv256(merge7), inplace=True)\n",
    "        \n",
    "        up8 = self.upsampling(x7)\n",
    "        x8 = Relu(self.conv256to128(up8), inplace=True)\n",
    "        x8 = Relu(self.conv128(x8), inplace=True)\n",
    "        poolX8 = self.pooling(x8)\n",
    "        merge8 = poolX8 #torch.cat((x2,poolX8),-1)\n",
    "        x8 = Relu(self.conv128(merge8), inplace=True)\n",
    "        \n",
    "        up9 = self.upsampling(x8)\n",
    "        x9 = Relu(self.conv128to64(up9), inplace=True)\n",
    "        x9 = Relu(self.conv64(x9), inplace=True)\n",
    "        poolX9 = self.pooling(x9)\n",
    "        merge9 = poolX9 #torch.cat((x1,poolX9),-1)\n",
    "        x9 = Relu(self.conv64(merge9), inplace=True)\n",
    "        \n",
    "        x10 = Relu(self.conv64to1(x9), inplace=True)\n",
    "        \n",
    "        return x10\n"
   ]
  },
  {
   "cell_type": "code",
   "execution_count": 35,
   "metadata": {},
   "outputs": [
    {
     "output_type": "execute_result",
     "data": {
      "text/plain": "torch.Size([64, 1, 2, 2])"
     },
     "metadata": {},
     "execution_count": 35
    }
   ],
   "source": [
    "net = NeuralNet()\n",
    "net.type(torch.FloatTensor)\n",
    "loss_fn = nn.CrossEntropyLoss().type(torch.FloatTensor)\n",
    "optimizer = optim.Adam(net.parameters(), lr=1e-2)\n",
    "x = torch.randn(64, 1, 32, 32).type(torch.FloatTensor)\n",
    "x_var = Variable(x.type(torch.FloatTensor))\n",
    "ans = net(x_var)\n",
    "ans.size()"
   ]
  },
  {
   "cell_type": "code",
   "execution_count": null,
   "metadata": {},
   "outputs": [],
   "source": []
  }
 ],
 "metadata": {
  "kernelspec": {
   "display_name": "Python 3",
   "language": "python",
   "name": "python3"
  },
  "language_info": {
   "codemirror_mode": {
    "name": "ipython",
    "version": 3
   },
   "file_extension": ".py",
   "mimetype": "text/x-python",
   "name": "python",
   "nbconvert_exporter": "python",
   "pygments_lexer": "ipython3",
   "version": "3.6.2-final"
  }
 },
 "nbformat": 4,
 "nbformat_minor": 2
}