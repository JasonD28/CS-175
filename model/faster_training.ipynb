{
  "nbformat": 4,
  "nbformat_minor": 0,
  "metadata": {
    "kernelspec": {
      "name": "python36264bitbc592443027240c7b2e05e5a5c26f432",
      "language": "python",
      "display_name": "Python 3.6.2 64-bit"
    },
    "language_info": {
      "codemirror_mode": {
        "name": "ipython",
        "version": 2
      },
      "file_extension": ".py",
      "mimetype": "text/x-python",
      "name": "python",
      "nbconvert_exporter": "python",
      "pygments_lexer": "ipython2",
      "version": "2.7.6"
    },
    "pycharm": {
      "stem_cell": {
        "cell_type": "raw",
        "source": [],
        "metadata": {
          "collapsed": false
        }
      }
    },
    "colab": {
      "name": "mask_training.ipynb",
      "provenance": [],
      "include_colab_link": true
    },
    "accelerator": "GPU",
    "widgets": {
      "application/vnd.jupyter.widget-state+json": {
        "53735cc88cf54d72b28c5be79fb809e7": {
          "model_module": "@jupyter-widgets/controls",
          "model_name": "HBoxModel",
          "state": {
            "_view_name": "HBoxView",
            "_dom_classes": [],
            "_model_name": "HBoxModel",
            "_view_module": "@jupyter-widgets/controls",
            "_model_module_version": "1.5.0",
            "_view_count": null,
            "_view_module_version": "1.5.0",
            "box_style": "",
            "layout": "IPY_MODEL_a55cadec353441ae8c3cd1d51a3e779f",
            "_model_module": "@jupyter-widgets/controls",
            "children": [
              "IPY_MODEL_21c07f563f154649aa53248bb591445a",
              "IPY_MODEL_b7ed3ef4065e45179d35b37306a77cee"
            ]
          }
        },
        "a55cadec353441ae8c3cd1d51a3e779f": {
          "model_module": "@jupyter-widgets/base",
          "model_name": "LayoutModel",
          "state": {
            "_view_name": "LayoutView",
            "grid_template_rows": null,
            "right": null,
            "justify_content": null,
            "_view_module": "@jupyter-widgets/base",
            "overflow": null,
            "_model_module_version": "1.2.0",
            "_view_count": null,
            "flex_flow": null,
            "width": null,
            "min_width": null,
            "border": null,
            "align_items": null,
            "bottom": null,
            "_model_module": "@jupyter-widgets/base",
            "top": null,
            "grid_column": null,
            "overflow_y": null,
            "overflow_x": null,
            "grid_auto_flow": null,
            "grid_area": null,
            "grid_template_columns": null,
            "flex": null,
            "_model_name": "LayoutModel",
            "justify_items": null,
            "grid_row": null,
            "max_height": null,
            "align_content": null,
            "visibility": null,
            "align_self": null,
            "height": null,
            "min_height": null,
            "padding": null,
            "grid_auto_rows": null,
            "grid_gap": null,
            "max_width": null,
            "order": null,
            "_view_module_version": "1.2.0",
            "grid_template_areas": null,
            "object_position": null,
            "object_fit": null,
            "grid_auto_columns": null,
            "margin": null,
            "display": null,
            "left": null
          }
        },
        "21c07f563f154649aa53248bb591445a": {
          "model_module": "@jupyter-widgets/controls",
          "model_name": "FloatProgressModel",
          "state": {
            "_view_name": "ProgressView",
            "style": "IPY_MODEL_f408ce19fa5741079d19d766296d8596",
            "_dom_classes": [],
            "description": "100%",
            "_model_name": "FloatProgressModel",
            "bar_style": "success",
            "max": 167502836,
            "_view_module": "@jupyter-widgets/controls",
            "_model_module_version": "1.5.0",
            "value": 167502836,
            "_view_count": null,
            "_view_module_version": "1.5.0",
            "orientation": "horizontal",
            "min": 0,
            "description_tooltip": null,
            "_model_module": "@jupyter-widgets/controls",
            "layout": "IPY_MODEL_69ad4578923b46db8717fe45b24a6d5d"
          }
        },
        "b7ed3ef4065e45179d35b37306a77cee": {
          "model_module": "@jupyter-widgets/controls",
          "model_name": "HTMLModel",
          "state": {
            "_view_name": "HTMLView",
            "style": "IPY_MODEL_389a01cc47884561afe9ec551f24318d",
            "_dom_classes": [],
            "description": "",
            "_model_name": "HTMLModel",
            "placeholder": "​",
            "_view_module": "@jupyter-widgets/controls",
            "_model_module_version": "1.5.0",
            "value": " 160M/160M [06:34&lt;00:00, 424kB/s]",
            "_view_count": null,
            "_view_module_version": "1.5.0",
            "description_tooltip": null,
            "_model_module": "@jupyter-widgets/controls",
            "layout": "IPY_MODEL_f2665f7b9b734035b1c2000d93812583"
          }
        },
        "f408ce19fa5741079d19d766296d8596": {
          "model_module": "@jupyter-widgets/controls",
          "model_name": "ProgressStyleModel",
          "state": {
            "_view_name": "StyleView",
            "_model_name": "ProgressStyleModel",
            "description_width": "initial",
            "_view_module": "@jupyter-widgets/base",
            "_model_module_version": "1.5.0",
            "_view_count": null,
            "_view_module_version": "1.2.0",
            "bar_color": null,
            "_model_module": "@jupyter-widgets/controls"
          }
        },
        "69ad4578923b46db8717fe45b24a6d5d": {
          "model_module": "@jupyter-widgets/base",
          "model_name": "LayoutModel",
          "state": {
            "_view_name": "LayoutView",
            "grid_template_rows": null,
            "right": null,
            "justify_content": null,
            "_view_module": "@jupyter-widgets/base",
            "overflow": null,
            "_model_module_version": "1.2.0",
            "_view_count": null,
            "flex_flow": null,
            "width": null,
            "min_width": null,
            "border": null,
            "align_items": null,
            "bottom": null,
            "_model_module": "@jupyter-widgets/base",
            "top": null,
            "grid_column": null,
            "overflow_y": null,
            "overflow_x": null,
            "grid_auto_flow": null,
            "grid_area": null,
            "grid_template_columns": null,
            "flex": null,
            "_model_name": "LayoutModel",
            "justify_items": null,
            "grid_row": null,
            "max_height": null,
            "align_content": null,
            "visibility": null,
            "align_self": null,
            "height": null,
            "min_height": null,
            "padding": null,
            "grid_auto_rows": null,
            "grid_gap": null,
            "max_width": null,
            "order": null,
            "_view_module_version": "1.2.0",
            "grid_template_areas": null,
            "object_position": null,
            "object_fit": null,
            "grid_auto_columns": null,
            "margin": null,
            "display": null,
            "left": null
          }
        },
        "389a01cc47884561afe9ec551f24318d": {
          "model_module": "@jupyter-widgets/controls",
          "model_name": "DescriptionStyleModel",
          "state": {
            "_view_name": "StyleView",
            "_model_name": "DescriptionStyleModel",
            "description_width": "",
            "_view_module": "@jupyter-widgets/base",
            "_model_module_version": "1.5.0",
            "_view_count": null,
            "_view_module_version": "1.2.0",
            "_model_module": "@jupyter-widgets/controls"
          }
        },
        "f2665f7b9b734035b1c2000d93812583": {
          "model_module": "@jupyter-widgets/base",
          "model_name": "LayoutModel",
          "state": {
            "_view_name": "LayoutView",
            "grid_template_rows": null,
            "right": null,
            "justify_content": null,
            "_view_module": "@jupyter-widgets/base",
            "overflow": null,
            "_model_module_version": "1.2.0",
            "_view_count": null,
            "flex_flow": null,
            "width": null,
            "min_width": null,
            "border": null,
            "align_items": null,
            "bottom": null,
            "_model_module": "@jupyter-widgets/base",
            "top": null,
            "grid_column": null,
            "overflow_y": null,
            "overflow_x": null,
            "grid_auto_flow": null,
            "grid_area": null,
            "grid_template_columns": null,
            "flex": null,
            "_model_name": "LayoutModel",
            "justify_items": null,
            "grid_row": null,
            "max_height": null,
            "align_content": null,
            "visibility": null,
            "align_self": null,
            "height": null,
            "min_height": null,
            "padding": null,
            "grid_auto_rows": null,
            "grid_gap": null,
            "max_width": null,
            "order": null,
            "_view_module_version": "1.2.0",
            "grid_template_areas": null,
            "object_position": null,
            "object_fit": null,
            "grid_auto_columns": null,
            "margin": null,
            "display": null,
            "left": null
          }
        }
      }
    }
  },
  "cells": [
    {
      "cell_type": "markdown",
      "metadata": {
        "id": "view-in-github",
        "colab_type": "text"
      },
      "source": [
        "<a href=\"https://colab.research.google.com/github/JasonD28/CS-175/blob/master/model/faster_training.ipynb\" target=\"_parent\"><img src=\"https://colab.research.google.com/assets/colab-badge.svg\" alt=\"Open In Colab\"/></a>"
      ]
    },
    {
      "cell_type": "code",
      "metadata": {
        "pycharm": {
          "name": "#%%\n",
          "is_executing": false
        },
        "id": "jKrrTTTLW2aW",
        "colab_type": "code",
        "outputId": "cdcde015-dfcd-46b6-c63d-54cea7c0f268",
        "colab": {
          "base_uri": "https://localhost:8080/",
          "height": 122
        }
      },
      "source": [
        "import os\n",
        "from google.colab import drive\n",
        "drive.mount('/content/drive')"
      ],
      "execution_count": 1,
      "outputs": [
        {
          "output_type": "stream",
          "text": [
            "Go to this URL in a browser: https://accounts.google.com/o/oauth2/auth?client_id=947318989803-6bn6qk8qdgf4n4g3pfee6491hc0brc4i.apps.googleusercontent.com&redirect_uri=urn%3aietf%3awg%3aoauth%3a2.0%3aoob&response_type=code&scope=email%20https%3a%2f%2fwww.googleapis.com%2fauth%2fdocs.test%20https%3a%2f%2fwww.googleapis.com%2fauth%2fdrive%20https%3a%2f%2fwww.googleapis.com%2fauth%2fdrive.photos.readonly%20https%3a%2f%2fwww.googleapis.com%2fauth%2fpeopleapi.readonly\n",
            "\n",
            "Enter your authorization code:\n",
            "··········\n",
            "Mounted at /content/drive\n"
          ],
          "name": "stdout"
        }
      ]
    },
    {
      "cell_type": "code",
      "metadata": {
        "id": "irDljYTmYY_j",
        "colab_type": "code",
        "outputId": "045fa39d-f473-49d0-b12e-2f2b76b491e4",
        "colab": {
          "base_uri": "https://localhost:8080/",
          "height": 102
        }
      },
      "source": [
        "!pip install pydicom"
      ],
      "execution_count": 5,
      "outputs": [
        {
          "output_type": "stream",
          "text": [
            "Collecting pydicom\n",
            "\u001b[?25l  Downloading https://files.pythonhosted.org/packages/d3/56/342e1f8ce5afe63bf65c23d0b2c1cd5a05600caad1c211c39725d3a4cc56/pydicom-2.0.0-py3-none-any.whl (35.4MB)\n",
            "\u001b[K     |████████████████████████████████| 35.5MB 88kB/s \n",
            "\u001b[?25hInstalling collected packages: pydicom\n",
            "Successfully installed pydicom-2.0.0\n"
          ],
          "name": "stdout"
        }
      ]
    },
    {
      "cell_type": "code",
      "metadata": {
        "id": "rix_jzMXAmeT",
        "colab_type": "code",
        "colab": {
          "base_uri": "https://localhost:8080/",
          "height": 102
        },
        "outputId": "b17352dd-25c1-4e22-91f5-713ac21fa30b"
      },
      "source": [
        "%%shell\n",
        "git clone https://github.com/cocodataset/cocoapi.git\n",
        "cd cocoapi\n",
        "cp PythonAPI/pycocotools /usr/local/lib/python3.6/dist-packages/ -r"
      ],
      "execution_count": 2,
      "outputs": [
        {
          "output_type": "stream",
          "text": [
            "Cloning into 'cocoapi'...\n",
            "remote: Enumerating objects: 975, done.\u001b[K\n",
            "remote: Total 975 (delta 0), reused 0 (delta 0), pack-reused 975\u001b[K\n",
            "Receiving objects: 100% (975/975), 11.72 MiB | 12.77 MiB/s, done.\n",
            "Resolving deltas: 100% (576/576), done.\n"
          ],
          "name": "stdout"
        },
        {
          "output_type": "execute_result",
          "data": {
            "text/plain": [
              ""
            ]
          },
          "metadata": {
            "tags": []
          },
          "execution_count": 2
        }
      ]
    },
    {
      "cell_type": "code",
      "metadata": {
        "id": "HeKX_g99Yt28",
        "colab_type": "code",
        "outputId": "ba76c60c-ab56-44a1-fc3f-3624a0b939da",
        "colab": {
          "base_uri": "https://localhost:8080/",
          "height": 136
        }
      },
      "source": [
        "%%shell\n",
        "git clone https://github.com/JasonD28/CS-175.git\n",
        "cd CS-175\n",
        "cp model/dataset.py  ../"
      ],
      "execution_count": 3,
      "outputs": [
        {
          "output_type": "stream",
          "text": [
            "Cloning into 'CS-175'...\n",
            "remote: Enumerating objects: 139, done.\u001b[K\n",
            "remote: Counting objects:   0% (1/139)\u001b[K\rremote: Counting objects:   1% (2/139)\u001b[K\rremote: Counting objects:   2% (3/139)\u001b[K\rremote: Counting objects:   3% (5/139)\u001b[K\rremote: Counting objects:   4% (6/139)\u001b[K\rremote: Counting objects:   5% (7/139)\u001b[K\rremote: Counting objects:   6% (9/139)\u001b[K\rremote: Counting objects:   7% (10/139)\u001b[K\rremote: Counting objects:   8% (12/139)\u001b[K\rremote: Counting objects:   9% (13/139)\u001b[K\rremote: Counting objects:  10% (14/139)\u001b[K\rremote: Counting objects:  11% (16/139)\u001b[K\rremote: Counting objects:  12% (17/139)\u001b[K\rremote: Counting objects:  13% (19/139)\u001b[K\rremote: Counting objects:  14% (20/139)\u001b[K\rremote: Counting objects:  15% (21/139)\u001b[K\rremote: Counting objects:  16% (23/139)\u001b[K\rremote: Counting objects:  17% (24/139)\u001b[K\rremote: Counting objects:  18% (26/139)\u001b[K\rremote: Counting objects:  19% (27/139)\u001b[K\rremote: Counting objects:  20% (28/139)\u001b[K\rremote: Counting objects:  21% (30/139)\u001b[K\rremote: Counting objects:  22% (31/139)\u001b[K\rremote: Counting objects:  23% (32/139)\u001b[K\rremote: Counting objects:  24% (34/139)\u001b[K\rremote: Counting objects:  25% (35/139)\u001b[K\rremote: Counting objects:  26% (37/139)\u001b[K\rremote: Counting objects:  27% (38/139)\u001b[K\rremote: Counting objects:  28% (39/139)\u001b[K\rremote: Counting objects:  29% (41/139)\u001b[K\rremote: Counting objects:  30% (42/139)\u001b[K\rremote: Counting objects:  31% (44/139)\u001b[K\rremote: Counting objects:  32% (45/139)\u001b[K\rremote: Counting objects:  33% (46/139)\u001b[K\rremote: Counting objects:  34% (48/139)\u001b[K\rremote: Counting objects:  35% (49/139)\u001b[K\rremote: Counting objects:  36% (51/139)\u001b[K\rremote: Counting objects:  37% (52/139)\u001b[K\rremote: Counting objects:  38% (53/139)\u001b[K\rremote: Counting objects:  39% (55/139)\u001b[K\rremote: Counting objects:  40% (56/139)\u001b[K\rremote: Counting objects:  41% (57/139)\u001b[K\rremote: Counting objects:  42% (59/139)\u001b[K\rremote: Counting objects:  43% (60/139)\u001b[K\rremote: Counting objects:  44% (62/139)\u001b[K\rremote: Counting objects:  45% (63/139)\u001b[K\rremote: Counting objects:  46% (64/139)\u001b[K\rremote: Counting objects:  47% (66/139)\u001b[K\rremote: Counting objects:  48% (67/139)\u001b[K\rremote: Counting objects:  49% (69/139)\u001b[K\rremote: Counting objects:  50% (70/139)\u001b[K\rremote: Counting objects:  51% (71/139)\u001b[K\rremote: Counting objects:  52% (73/139)\u001b[K\rremote: Counting objects:  53% (74/139)\u001b[K\rremote: Counting objects:  54% (76/139)\u001b[K\rremote: Counting objects:  55% (77/139)\u001b[K\rremote: Counting objects:  56% (78/139)\u001b[K\rremote: Counting objects:  57% (80/139)\u001b[K\rremote: Counting objects:  58% (81/139)\u001b[K\rremote: Counting objects:  59% (83/139)\u001b[K\rremote: Counting objects:  60% (84/139)\u001b[K\rremote: Counting objects:  61% (85/139)\u001b[K\rremote: Counting objects:  62% (87/139)\u001b[K\rremote: Counting objects:  63% (88/139)\u001b[K\rremote: Counting objects:  64% (89/139)\u001b[K\rremote: Counting objects:  65% (91/139)\u001b[K\rremote: Counting objects:  66% (92/139)\u001b[K\rremote: Counting objects:  67% (94/139)\u001b[K\rremote: Counting objects:  68% (95/139)\u001b[K\rremote: Counting objects:  69% (96/139)\u001b[K\rremote: Counting objects:  70% (98/139)\u001b[K\rremote: Counting objects:  71% (99/139)\u001b[K\rremote: Counting objects:  72% (101/139)\u001b[K\rremote: Counting objects:  73% (102/139)\u001b[K\rremote: Counting objects:  74% (103/139)\u001b[K\rremote: Counting objects:  75% (105/139)\u001b[K\rremote: Counting objects:  76% (106/139)\u001b[K\rremote: Counting objects:  77% (108/139)\u001b[K\rremote: Counting objects:  78% (109/139)\u001b[K\rremote: Counting objects:  79% (110/139)\u001b[K\rremote: Counting objects:  80% (112/139)\u001b[K\rremote: Counting objects:  81% (113/139)\u001b[K\rremote: Counting objects:  82% (114/139)\u001b[K\rremote: Counting objects:  83% (116/139)\u001b[K\rremote: Counting objects:  84% (117/139)\u001b[K\rremote: Counting objects:  85% (119/139)\u001b[K\rremote: Counting objects:  86% (120/139)\u001b[K\rremote: Counting objects:  87% (121/139)\u001b[K\rremote: Counting objects:  88% (123/139)\u001b[K\rremote: Counting objects:  89% (124/139)\u001b[K\rremote: Counting objects:  90% (126/139)\u001b[K\rremote: Counting objects:  91% (127/139)\u001b[K\rremote: Counting objects:  92% (128/139)\u001b[K\rremote: Counting objects:  93% (130/139)\u001b[K\rremote: Counting objects:  94% (131/139)\u001b[K\rremote: Counting objects:  95% (133/139)\u001b[K\rremote: Counting objects:  96% (134/139)\u001b[K\rremote: Counting objects:  97% (135/139)\u001b[K\rremote: Counting objects:  98% (137/139)\u001b[K\rremote: Counting objects:  99% (138/139)\u001b[K\rremote: Counting objects: 100% (139/139)\u001b[K\rremote: Counting objects: 100% (139/139), done.\u001b[K\n",
            "remote: Compressing objects: 100% (113/113), done.\u001b[K\n",
            "remote: Total 139 (delta 67), reused 51 (delta 18), pack-reused 0\u001b[K\n",
            "Receiving objects: 100% (139/139), 932.04 KiB | 2.02 MiB/s, done.\n",
            "Resolving deltas: 100% (67/67), done.\n"
          ],
          "name": "stdout"
        },
        {
          "output_type": "execute_result",
          "data": {
            "text/plain": [
              ""
            ]
          },
          "metadata": {
            "tags": []
          },
          "execution_count": 3
        }
      ]
    },
    {
      "cell_type": "code",
      "metadata": {
        "id": "tPWmJCpyeXjj",
        "colab_type": "code",
        "colab": {}
      },
      "source": [
        "%%shell\n",
        "\n",
        "# Using PyTorch helper functions to simplify training\n",
        "git clone https://github.com/pytorch/vision.git\n",
        "cd vision\n",
        "git checkout v0.5.1\n",
        "\n",
        "cp references/detection/utils.py ../\n",
        "cp references/detection/engine.py ../\n",
        "cp references/detection/transforms.py ../\n",
        "cp references/detection/coco_eval.py ../\n",
        "cp references/detection/coco_utils.py ../"
      ],
      "execution_count": 0,
      "outputs": []
    },
    {
      "cell_type": "code",
      "metadata": {
        "pycharm": {
          "name": "#%%\n",
          "is_executing": false
        },
        "id": "Y08McWk6W2ah",
        "colab_type": "code",
        "colab": {}
      },
      "source": [
        "import torch\n",
        "import utils\n",
        "from torch import optim\n",
        "import torchvision\n",
        "from dataset import PneumoniaDataset\n",
        "from engine import train_one_epoch, evaluate\n",
        "from torchvision.models.detection.faster_rcnn import FastRCNNPredictor\n",
        "from torchvision.models.detection.mask_rcnn import MaskRCNNPredictor\n",
        "\n",
        "root = \"drive/My Drive/cs-175-project/cs-175-data\""
      ],
      "execution_count": 0,
      "outputs": []
    },
    {
      "cell_type": "code",
      "metadata": {
        "pycharm": {
          "name": "#%%\n",
          "is_executing": false
        },
        "id": "1QMBWvaQW2ar",
        "colab_type": "code",
        "colab": {
          "base_uri": "https://localhost:8080/",
          "height": 83,
          "referenced_widgets": [
            "53735cc88cf54d72b28c5be79fb809e7",
            "a55cadec353441ae8c3cd1d51a3e779f",
            "21c07f563f154649aa53248bb591445a",
            "b7ed3ef4065e45179d35b37306a77cee",
            "f408ce19fa5741079d19d766296d8596",
            "69ad4578923b46db8717fe45b24a6d5d",
            "389a01cc47884561afe9ec551f24318d",
            "f2665f7b9b734035b1c2000d93812583"
          ]
        },
        "outputId": "8df2d2fe-4dcb-4b72-b17c-3267bb3f490c"
      },
      "source": [
        "model = torchvision.models.detection.fasterrcnn_resnet50_fpn(pretrained=True)\n",
        "in_features = model.roi_heads.box_predictor.cls_score.in_features\n",
        "model.roi_heads.box_predictor = FastRCNNPredictor(in_features, num_classes=2)"
      ],
      "execution_count": 7,
      "outputs": [
        {
          "output_type": "stream",
          "text": [
            "Downloading: \"https://download.pytorch.org/models/fasterrcnn_resnet50_fpn_coco-258fb6c6.pth\" to /root/.cache/torch/checkpoints/fasterrcnn_resnet50_fpn_coco-258fb6c6.pth\n"
          ],
          "name": "stderr"
        },
        {
          "output_type": "display_data",
          "data": {
            "application/vnd.jupyter.widget-view+json": {
              "model_id": "53735cc88cf54d72b28c5be79fb809e7",
              "version_minor": 0,
              "version_major": 2
            },
            "text/plain": [
              "HBox(children=(FloatProgress(value=0.0, max=167502836.0), HTML(value='')))"
            ]
          },
          "metadata": {
            "tags": []
          }
        },
        {
          "output_type": "stream",
          "text": [
            "\n"
          ],
          "name": "stdout"
        }
      ]
    },
    {
      "cell_type": "code",
      "metadata": {
        "pycharm": {
          "is_executing": false
        },
        "id": "2-cj1-G6W2a4",
        "colab_type": "code",
        "colab": {}
      },
      "source": [
        "device = torch.device('cuda') if torch.cuda.is_available() else torch.device('cpu')\n",
        "model.to(device)\n",
        "dataset = PneumoniaDataset(root, True)\n",
        "test_dataset = PneumoniaDataset(root, True)\n",
        "indices = torch.randperm(len(dataset)).tolist()\n",
        "dataset = torch.utils.data.Subset(dataset, indices[:-50])\n",
        "test_dataset = torch.utils.data.Subset(test_dataset, indices[-50:])\n",
        "\n",
        "data_loader = torch.utils.data.DataLoader(\n",
        "        dataset, batch_size=2, shuffle=True, num_workers=6,\n",
        "        collate_fn=utils.collate_fn)\n",
        "\n",
        "test_data_loader = torch.utils.data.DataLoader(\n",
        "    test_dataset, batch_size=1, shuffle=False, num_workers=4,\n",
        "    collate_fn=utils.collate_fn)\n",
        "\n",
        "optimizer = optim.Adam(model.parameters(), lr=1e-3)\n",
        "lr_step = torch.optim.lr_scheduler.StepLR(optimizer, step_size=2, gamma=0.1)\n"
      ],
      "execution_count": 0,
      "outputs": []
    },
    {
      "cell_type": "code",
      "metadata": {
        "pycharm": {
          "name": "#%%\n"
        },
        "id": "yLXtLoMZW2bC",
        "colab_type": "code",
        "outputId": "70079c8b-f823-46d1-d01e-847c8fef631a",
        "colab": {
          "base_uri": "https://localhost:8080/",
          "height": 447
        }
      },
      "source": [
        "for epoch in range(3):\n",
        "    train_one_epoch(model, optimizer, data_loader, device, epoch, print_freq=200)\n",
        "    lr_step.step()\n",
        "    torch.save(model.state_dict(), 'drive/My Drive/cs-175-project/model_checkpoints/first_try_model.pt')\n",
        "    evaluate(model, test_data_loader, device=device)"
      ],
      "execution_count": 14,
      "outputs": [
        {
          "output_type": "stream",
          "text": [
            "/usr/local/lib/python3.6/dist-packages/torch/nn/functional.py:2854: UserWarning: The default behavior for interpolate/upsample with float scale_factor will change in 1.6.0 to align with other frameworks/libraries, and use scale_factor directly, instead of relying on the computed output size. If you wish to keep the old behavior, please set recompute_scale_factor=True. See the documentation of nn.Upsample for details. \n",
            "  warnings.warn(\"The default behavior for interpolate/upsample with float scale_factor will change \"\n"
          ],
          "name": "stderr"
        },
        {
          "output_type": "stream",
          "text": [
            "Epoch: [0]  [    0/13317]  eta: 3:36:03  lr: 0.000002  loss: 0.3285 (0.3285)  loss_classifier: 0.0081 (0.0081)  loss_box_reg: 0.0000 (0.0000)  loss_objectness: 0.2538 (0.2538)  loss_rpn_box_reg: 0.0666 (0.0666)  time: 0.9734  data: 0.6277  max mem: 2351\n",
            "Epoch: [0]  [   10/13317]  eta: 1:14:20  lr: 0.000012  loss: 0.3285 (0.3353)  loss_classifier: 0.0081 (0.0053)  loss_box_reg: 0.0000 (0.0000)  loss_objectness: 0.2598 (0.2892)  loss_rpn_box_reg: 0.0354 (0.0408)  time: 0.3352  data: 0.0622  max mem: 2351\n"
          ],
          "name": "stdout"
        },
        {
          "output_type": "error",
          "ename": "KeyboardInterrupt",
          "evalue": "ignored",
          "traceback": [
            "\u001b[0;31m---------------------------------------------------------------------------\u001b[0m",
            "\u001b[0;31mKeyboardInterrupt\u001b[0m                         Traceback (most recent call last)",
            "\u001b[0;32m<ipython-input-14-915ac56e8a50>\u001b[0m in \u001b[0;36m<module>\u001b[0;34m()\u001b[0m\n\u001b[1;32m      1\u001b[0m \u001b[0;32mfor\u001b[0m \u001b[0mepoch\u001b[0m \u001b[0;32min\u001b[0m \u001b[0mrange\u001b[0m\u001b[0;34m(\u001b[0m\u001b[0;36m3\u001b[0m\u001b[0;34m)\u001b[0m\u001b[0;34m:\u001b[0m\u001b[0;34m\u001b[0m\u001b[0;34m\u001b[0m\u001b[0m\n\u001b[0;32m----> 2\u001b[0;31m     \u001b[0mtrain_one_epoch\u001b[0m\u001b[0;34m(\u001b[0m\u001b[0mmodel\u001b[0m\u001b[0;34m,\u001b[0m \u001b[0moptimizer\u001b[0m\u001b[0;34m,\u001b[0m \u001b[0mdata_loader\u001b[0m\u001b[0;34m,\u001b[0m \u001b[0mdevice\u001b[0m\u001b[0;34m,\u001b[0m \u001b[0mepoch\u001b[0m\u001b[0;34m,\u001b[0m \u001b[0mprint_freq\u001b[0m\u001b[0;34m=\u001b[0m\u001b[0;36m10\u001b[0m\u001b[0;34m)\u001b[0m\u001b[0;34m\u001b[0m\u001b[0;34m\u001b[0m\u001b[0m\n\u001b[0m\u001b[1;32m      3\u001b[0m     \u001b[0mlr_step\u001b[0m\u001b[0;34m.\u001b[0m\u001b[0mstep\u001b[0m\u001b[0;34m(\u001b[0m\u001b[0;34m)\u001b[0m\u001b[0;34m\u001b[0m\u001b[0;34m\u001b[0m\u001b[0m\n\u001b[1;32m      4\u001b[0m     \u001b[0mevaluate\u001b[0m\u001b[0;34m(\u001b[0m\u001b[0mmodel\u001b[0m\u001b[0;34m,\u001b[0m \u001b[0mtest_data_loader\u001b[0m\u001b[0;34m,\u001b[0m \u001b[0mdevice\u001b[0m\u001b[0;34m=\u001b[0m\u001b[0mdevice\u001b[0m\u001b[0;34m)\u001b[0m\u001b[0;34m\u001b[0m\u001b[0;34m\u001b[0m\u001b[0m\n",
            "\u001b[0;32m/content/engine.py\u001b[0m in \u001b[0;36mtrain_one_epoch\u001b[0;34m(model, optimizer, data_loader, device, epoch, print_freq)\u001b[0m\n\u001b[1;32m     50\u001b[0m             \u001b[0mlr_scheduler\u001b[0m\u001b[0;34m.\u001b[0m\u001b[0mstep\u001b[0m\u001b[0;34m(\u001b[0m\u001b[0;34m)\u001b[0m\u001b[0;34m\u001b[0m\u001b[0;34m\u001b[0m\u001b[0m\n\u001b[1;32m     51\u001b[0m \u001b[0;34m\u001b[0m\u001b[0m\n\u001b[0;32m---> 52\u001b[0;31m         \u001b[0mmetric_logger\u001b[0m\u001b[0;34m.\u001b[0m\u001b[0mupdate\u001b[0m\u001b[0;34m(\u001b[0m\u001b[0mloss\u001b[0m\u001b[0;34m=\u001b[0m\u001b[0mlosses_reduced\u001b[0m\u001b[0;34m,\u001b[0m \u001b[0;34m**\u001b[0m\u001b[0mloss_dict_reduced\u001b[0m\u001b[0;34m)\u001b[0m\u001b[0;34m\u001b[0m\u001b[0;34m\u001b[0m\u001b[0m\n\u001b[0m\u001b[1;32m     53\u001b[0m         \u001b[0mmetric_logger\u001b[0m\u001b[0;34m.\u001b[0m\u001b[0mupdate\u001b[0m\u001b[0;34m(\u001b[0m\u001b[0mlr\u001b[0m\u001b[0;34m=\u001b[0m\u001b[0moptimizer\u001b[0m\u001b[0;34m.\u001b[0m\u001b[0mparam_groups\u001b[0m\u001b[0;34m[\u001b[0m\u001b[0;36m0\u001b[0m\u001b[0;34m]\u001b[0m\u001b[0;34m[\u001b[0m\u001b[0;34m\"lr\"\u001b[0m\u001b[0;34m]\u001b[0m\u001b[0;34m)\u001b[0m\u001b[0;34m\u001b[0m\u001b[0;34m\u001b[0m\u001b[0m\n\u001b[1;32m     54\u001b[0m \u001b[0;34m\u001b[0m\u001b[0m\n",
            "\u001b[0;32m/content/utils.py\u001b[0m in \u001b[0;36mupdate\u001b[0;34m(self, **kwargs)\u001b[0m\n\u001b[1;32m    151\u001b[0m         \u001b[0;32mfor\u001b[0m \u001b[0mk\u001b[0m\u001b[0;34m,\u001b[0m \u001b[0mv\u001b[0m \u001b[0;32min\u001b[0m \u001b[0mkwargs\u001b[0m\u001b[0;34m.\u001b[0m\u001b[0mitems\u001b[0m\u001b[0;34m(\u001b[0m\u001b[0;34m)\u001b[0m\u001b[0;34m:\u001b[0m\u001b[0;34m\u001b[0m\u001b[0;34m\u001b[0m\u001b[0m\n\u001b[1;32m    152\u001b[0m             \u001b[0;32mif\u001b[0m \u001b[0misinstance\u001b[0m\u001b[0;34m(\u001b[0m\u001b[0mv\u001b[0m\u001b[0;34m,\u001b[0m \u001b[0mtorch\u001b[0m\u001b[0;34m.\u001b[0m\u001b[0mTensor\u001b[0m\u001b[0;34m)\u001b[0m\u001b[0;34m:\u001b[0m\u001b[0;34m\u001b[0m\u001b[0;34m\u001b[0m\u001b[0m\n\u001b[0;32m--> 153\u001b[0;31m                 \u001b[0mv\u001b[0m \u001b[0;34m=\u001b[0m \u001b[0mv\u001b[0m\u001b[0;34m.\u001b[0m\u001b[0mitem\u001b[0m\u001b[0;34m(\u001b[0m\u001b[0;34m)\u001b[0m\u001b[0;34m\u001b[0m\u001b[0;34m\u001b[0m\u001b[0m\n\u001b[0m\u001b[1;32m    154\u001b[0m             \u001b[0;32massert\u001b[0m \u001b[0misinstance\u001b[0m\u001b[0;34m(\u001b[0m\u001b[0mv\u001b[0m\u001b[0;34m,\u001b[0m \u001b[0;34m(\u001b[0m\u001b[0mfloat\u001b[0m\u001b[0;34m,\u001b[0m \u001b[0mint\u001b[0m\u001b[0;34m)\u001b[0m\u001b[0;34m)\u001b[0m\u001b[0;34m\u001b[0m\u001b[0;34m\u001b[0m\u001b[0m\n\u001b[1;32m    155\u001b[0m             \u001b[0mself\u001b[0m\u001b[0;34m.\u001b[0m\u001b[0mmeters\u001b[0m\u001b[0;34m[\u001b[0m\u001b[0mk\u001b[0m\u001b[0;34m]\u001b[0m\u001b[0;34m.\u001b[0m\u001b[0mupdate\u001b[0m\u001b[0;34m(\u001b[0m\u001b[0mv\u001b[0m\u001b[0;34m)\u001b[0m\u001b[0;34m\u001b[0m\u001b[0;34m\u001b[0m\u001b[0m\n",
            "\u001b[0;31mKeyboardInterrupt\u001b[0m: "
          ]
        }
      ]
    }
  ]
}